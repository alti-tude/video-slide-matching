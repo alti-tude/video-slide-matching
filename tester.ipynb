{
  "nbformat": 4,
  "nbformat_minor": 0,
  "metadata": {
    "colab": {
      "name": "tester.ipynb",
      "version": "0.3.2",
      "provenance": [],
      "collapsed_sections": [],
      "toc_visible": true,
      "include_colab_link": true
    },
    "kernelspec": {
      "name": "python3",
      "display_name": "Python 3"
    }
  },
  "cells": [
    {
      "cell_type": "markdown",
      "metadata": {
        "id": "view-in-github",
        "colab_type": "text"
      },
      "source": [
        "<a href=\"https://colab.research.google.com/github/alti-tude/video-slide-matching/blob/master/tester.ipynb\" target=\"_parent\"><img src=\"https://colab.research.google.com/assets/colab-badge.svg\" alt=\"Open In Colab\"/></a>"
      ]
    },
    {
      "metadata": {
        "id": "vDoeI2yqk_C2",
        "colab_type": "text"
      },
      "cell_type": "markdown",
      "source": [
        "\n",
        "# Run This Once to Initialize the Drive"
      ]
    },
    {
      "metadata": {
        "id": "QjrFQR5SFzNJ",
        "colab_type": "text"
      },
      "cell_type": "markdown",
      "source": [
        "#### Right click and select save to My Drive"
      ]
    },
    {
      "metadata": {
        "id": "VWpfcSm0F-kT",
        "colab_type": "text"
      },
      "cell_type": "markdown",
      "source": [
        "https://drive.google.com/open?id=1J84AcNchprI0DndeaTVFSUZWF2lMo5uu"
      ]
    },
    {
      "metadata": {
        "id": "LHV5dXEyXyVI",
        "colab_type": "code",
        "outputId": "31bd7539-d804-4362-f4be-c42363a62a12",
        "colab": {
          "base_uri": "https://localhost:8080/",
          "height": 124
        }
      },
      "cell_type": "code",
      "source": [
        "from google.colab import drive\n",
        "\n",
        "drive.mount('/content/gdrive', force_remount=True)"
      ],
      "execution_count": 4,
      "outputs": [
        {
          "output_type": "stream",
          "text": [
            "Go to this URL in a browser: https://accounts.google.com/o/oauth2/auth?client_id=947318989803-6bn6qk8qdgf4n4g3pfee6491hc0brc4i.apps.googleusercontent.com&redirect_uri=urn%3Aietf%3Awg%3Aoauth%3A2.0%3Aoob&scope=email%20https%3A%2F%2Fwww.googleapis.com%2Fauth%2Fdocs.test%20https%3A%2F%2Fwww.googleapis.com%2Fauth%2Fdrive%20https%3A%2F%2Fwww.googleapis.com%2Fauth%2Fdrive.photos.readonly%20https%3A%2F%2Fwww.googleapis.com%2Fauth%2Fpeopleapi.readonly&response_type=code\n",
            "\n",
            "Enter your authorization code:\n",
            "··········\n",
            "Mounted at /content/gdrive\n"
          ],
          "name": "stdout"
        }
      ]
    },
    {
      "metadata": {
        "id": "hpTPOA67g6fg",
        "colab_type": "code",
        "colab": {}
      },
      "cell_type": "code",
      "source": [
        "!mkdir '/content/gdrive/My Drive/data'\n",
        "!cp -r '/content/gdrive/My Drive/Data' '/content/gdrive/My Drive/data'"
      ],
      "execution_count": 0,
      "outputs": []
    },
    {
      "metadata": {
        "id": "XSDRTqOF_gZ6",
        "colab_type": "text"
      },
      "cell_type": "markdown",
      "source": [
        "# Test Generator"
      ]
    },
    {
      "metadata": {
        "id": "PX94O1chZNLD",
        "colab_type": "code",
        "outputId": "f2c4b42d-2309-469a-8f47-9dfa59d63b5d",
        "colab": {
          "base_uri": "https://localhost:8080/",
          "height": 34
        }
      },
      "cell_type": "code",
      "source": [
        "import os\n",
        "root = '/content/gdrive/My Drive/data/Data/Dataset/'\n",
        "testroot = '/'.join(root.split('/')[:-2]) + '/new_test/'\n",
        "\n",
        "data = []\n",
        "data_ind = []\n",
        "\n",
        "def load_tests(data, data_ind):\n",
        "    for curdir in os.listdir(root):\n",
        "        frames = []\n",
        "\n",
        "        for imgs in os.listdir(root+curdir):\n",
        "            if 'ppt' not in imgs:\n",
        "                frames.append(root+curdir+'/'+imgs)\n",
        "                data_ind.append({'ppt': root+curdir+'/ppt.jpg', 'frame':root+curdir+'/'+imgs})\n",
        "\n",
        "        data.append({'ppt': root+curdir+'/ppt.jpg', 'frames':frames})\n",
        "    \n",
        "\n",
        "load_tests(data, data_ind)\n",
        "print(data_ind[1])\n"
      ],
      "execution_count": 10,
      "outputs": [
        {
          "output_type": "stream",
          "text": [
            "{'ppt': '/content/gdrive/My Drive/data/Data/Dataset/03_7/ppt.jpg', 'frame': '/content/gdrive/My Drive/data/Data/Dataset/03_7/0.jpg'}\n"
          ],
          "name": "stdout"
        }
      ]
    },
    {
      "metadata": {
        "id": "2GUyQD7Heeod",
        "colab_type": "code",
        "colab": {}
      },
      "cell_type": "code",
      "source": [
        "def cp(source, dest):\n",
        "    ip = open(source, 'rb')\n",
        "    data = b''\n",
        "    while True:\n",
        "        chunk = ip.read()\n",
        "        if len(chunk) == 0:\n",
        "            break\n",
        "        data = data + chunk\n",
        "    \n",
        "    ip.close()\n",
        "    \n",
        "    op = open(dest, 'wb')\n",
        "    op.write(data)"
      ],
      "execution_count": 0,
      "outputs": []
    },
    {
      "metadata": {
        "id": "9B1t4TGUjKi-",
        "colab_type": "code",
        "colab": {}
      },
      "cell_type": "code",
      "source": [
        "def write_sol(l, testroot):\n",
        "    with open(testroot+'sol.txt', 'w') as sol: \n",
        "        for i in range(len(l)):\n",
        "            sol.write(\"%s.jpg %s.jpg\\n\" %(i, l[i]['ppt'].split('/')[-2]))"
      ],
      "execution_count": 0,
      "outputs": []
    },
    {
      "metadata": {
        "id": "TdsV5rZ9OgPv",
        "colab_type": "code",
        "colab": {}
      },
      "cell_type": "code",
      "source": [
        "from IPython.display import HTML, display\n",
        "\n",
        "def progress(value, max=100):\n",
        "    return HTML(\"\"\"\n",
        "        <progress\n",
        "            value='{value}'\n",
        "            max='{max}',\n",
        "            style='width: 100%'\n",
        "        >\n",
        "            {value}\n",
        "        </progress>\n",
        "    \"\"\".format(value=value, max=max))\n",
        "\n"
      ],
      "execution_count": 0,
      "outputs": []
    },
    {
      "metadata": {
        "id": "_EZrBLJk_m9J",
        "colab_type": "text"
      },
      "cell_type": "markdown",
      "source": [
        "###  Rerun this for a new test"
      ]
    },
    {
      "metadata": {
        "id": "DCciq_AWZf1u",
        "colab_type": "code",
        "colab": {}
      },
      "cell_type": "code",
      "source": [
        "import random\n",
        "\n",
        "def get_set(data_ind):\n",
        "    testset_size = random.randint(100, len(data_ind))\n",
        "    testset = random.sample(data_ind, testset_size)\n",
        "    return testset,testset_size\n"
      ],
      "execution_count": 0,
      "outputs": []
    },
    {
      "metadata": {
        "id": "0sk4cmT4dRVd",
        "colab_type": "code",
        "outputId": "d9cbac34-470f-4660-e883-93ea711c785b",
        "colab": {
          "base_uri": "https://localhost:8080/",
          "height": 514
        }
      },
      "cell_type": "code",
      "source": [
        "import os\n",
        "\n",
        "def gen_test(testroot, testset_size, testset):\n",
        "    print(\"test size: \"+str(testset_size))\n",
        "    print(testroot)\n",
        "    try:\n",
        "        os.mkdir(testroot)\n",
        "        os.mkdir(testroot+'frames/')\n",
        "        os.mkdir(testroot+'ppts/')\n",
        "    except Exception as e:\n",
        "        print(e)\n",
        "        for i in os.listdir(testroot+'frames/'):\n",
        "            os.remove(testroot+'frames/'+i)\n",
        "        for i in os.listdir(testroot+'ppts/'):\n",
        "            os.remove(testroot+'ppts/'+i)\n",
        "\n",
        "    out = display(progress(0, testset_size), display_id=True)\n",
        "\n",
        "    for i in range(len(testset)):\n",
        "        frame = testset[i]['frame']\n",
        "        ppt = testset[i]['ppt']\n",
        "        ppt_name = ppt.split('/')[-2]\n",
        "\n",
        "        cp(ppt, testroot+'ppts/'+ppt_name+'.jpg')\n",
        "        cp(frame, testroot+'frames/'+str(i)+'.jpg')\n",
        "        out.update(progress(i+1, testset_size))\n",
        "#         print(frame)\n",
        "\n",
        "    write_sol(testset, testroot)\n",
        "\n"
      ],
      "execution_count": 31,
      "outputs": [
        {
          "output_type": "stream",
          "text": [
            "test size: 131\n",
            "/content/gdrive/My Drive/data/Data/new_test/\n",
            "[Errno 17] File exists: '/content/gdrive/My Drive/data/Data/new_test/'\n"
          ],
          "name": "stdout"
        },
        {
          "output_type": "display_data",
          "data": {
            "text/html": [
              "\n",
              "        <progress\n",
              "            value='11'\n",
              "            max='131',\n",
              "            style='width: 100%'\n",
              "        >\n",
              "            11\n",
              "        </progress>\n",
              "    "
            ],
            "text/plain": [
              "<IPython.core.display.HTML object>"
            ]
          },
          "metadata": {
            "tags": []
          }
        },
        {
          "output_type": "error",
          "ename": "KeyboardInterrupt",
          "evalue": "ignored",
          "traceback": [
            "\u001b[0;31m---------------------------------------------------------------------------\u001b[0m",
            "\u001b[0;31mKeyboardInterrupt\u001b[0m                         Traceback (most recent call last)",
            "\u001b[0;32m<ipython-input-31-7690e05c325f>\u001b[0m in \u001b[0;36m<module>\u001b[0;34m()\u001b[0m\n\u001b[1;32m     30\u001b[0m \u001b[0;34m\u001b[0m\u001b[0m\n\u001b[1;32m     31\u001b[0m \u001b[0mtestset\u001b[0m\u001b[0;34m,\u001b[0m \u001b[0mtestset_size\u001b[0m \u001b[0;34m=\u001b[0m \u001b[0mget_set\u001b[0m\u001b[0;34m(\u001b[0m\u001b[0mdata_ind\u001b[0m\u001b[0;34m)\u001b[0m\u001b[0;34m\u001b[0m\u001b[0;34m\u001b[0m\u001b[0m\n\u001b[0;32m---> 32\u001b[0;31m \u001b[0mgen_test\u001b[0m\u001b[0;34m(\u001b[0m\u001b[0mtestroot\u001b[0m\u001b[0;34m,\u001b[0m \u001b[0mtestset_size\u001b[0m\u001b[0;34m,\u001b[0m \u001b[0mtestset\u001b[0m\u001b[0;34m)\u001b[0m\u001b[0;34m\u001b[0m\u001b[0;34m\u001b[0m\u001b[0m\n\u001b[0m",
            "\u001b[0;32m<ipython-input-31-7690e05c325f>\u001b[0m in \u001b[0;36mgen_test\u001b[0;34m(testroot, testset_size, testset)\u001b[0m\n\u001b[1;32m     22\u001b[0m         \u001b[0mppt_name\u001b[0m \u001b[0;34m=\u001b[0m \u001b[0mppt\u001b[0m\u001b[0;34m.\u001b[0m\u001b[0msplit\u001b[0m\u001b[0;34m(\u001b[0m\u001b[0;34m'/'\u001b[0m\u001b[0;34m)\u001b[0m\u001b[0;34m[\u001b[0m\u001b[0;34m-\u001b[0m\u001b[0;36m2\u001b[0m\u001b[0;34m]\u001b[0m\u001b[0;34m\u001b[0m\u001b[0;34m\u001b[0m\u001b[0m\n\u001b[1;32m     23\u001b[0m \u001b[0;34m\u001b[0m\u001b[0m\n\u001b[0;32m---> 24\u001b[0;31m         \u001b[0mcp\u001b[0m\u001b[0;34m(\u001b[0m\u001b[0mppt\u001b[0m\u001b[0;34m,\u001b[0m \u001b[0mtestroot\u001b[0m\u001b[0;34m+\u001b[0m\u001b[0;34m'ppts/'\u001b[0m\u001b[0;34m+\u001b[0m\u001b[0mppt_name\u001b[0m\u001b[0;34m+\u001b[0m\u001b[0;34m'.jpg'\u001b[0m\u001b[0;34m)\u001b[0m\u001b[0;34m\u001b[0m\u001b[0;34m\u001b[0m\u001b[0m\n\u001b[0m\u001b[1;32m     25\u001b[0m         \u001b[0mcp\u001b[0m\u001b[0;34m(\u001b[0m\u001b[0mframe\u001b[0m\u001b[0;34m,\u001b[0m \u001b[0mtestroot\u001b[0m\u001b[0;34m+\u001b[0m\u001b[0;34m'frames/'\u001b[0m\u001b[0;34m+\u001b[0m\u001b[0mstr\u001b[0m\u001b[0;34m(\u001b[0m\u001b[0mi\u001b[0m\u001b[0;34m)\u001b[0m\u001b[0;34m+\u001b[0m\u001b[0;34m'.jpg'\u001b[0m\u001b[0;34m)\u001b[0m\u001b[0;34m\u001b[0m\u001b[0;34m\u001b[0m\u001b[0m\n\u001b[1;32m     26\u001b[0m         \u001b[0mout\u001b[0m\u001b[0;34m.\u001b[0m\u001b[0mupdate\u001b[0m\u001b[0;34m(\u001b[0m\u001b[0mprogress\u001b[0m\u001b[0;34m(\u001b[0m\u001b[0mi\u001b[0m\u001b[0;34m+\u001b[0m\u001b[0;36m1\u001b[0m\u001b[0;34m,\u001b[0m \u001b[0mtestset_size\u001b[0m\u001b[0;34m)\u001b[0m\u001b[0;34m)\u001b[0m\u001b[0;34m\u001b[0m\u001b[0;34m\u001b[0m\u001b[0m\n",
            "\u001b[0;32m<ipython-input-11-2a9b37a292fd>\u001b[0m in \u001b[0;36mcp\u001b[0;34m(source, dest)\u001b[0m\n\u001b[1;32m      3\u001b[0m     \u001b[0mdata\u001b[0m \u001b[0;34m=\u001b[0m \u001b[0;34mb''\u001b[0m\u001b[0;34m\u001b[0m\u001b[0;34m\u001b[0m\u001b[0m\n\u001b[1;32m      4\u001b[0m     \u001b[0;32mwhile\u001b[0m \u001b[0;32mTrue\u001b[0m\u001b[0;34m:\u001b[0m\u001b[0;34m\u001b[0m\u001b[0;34m\u001b[0m\u001b[0m\n\u001b[0;32m----> 5\u001b[0;31m         \u001b[0mchunk\u001b[0m \u001b[0;34m=\u001b[0m \u001b[0mip\u001b[0m\u001b[0;34m.\u001b[0m\u001b[0mread\u001b[0m\u001b[0;34m(\u001b[0m\u001b[0;34m)\u001b[0m\u001b[0;34m\u001b[0m\u001b[0;34m\u001b[0m\u001b[0m\n\u001b[0m\u001b[1;32m      6\u001b[0m         \u001b[0;32mif\u001b[0m \u001b[0mlen\u001b[0m\u001b[0;34m(\u001b[0m\u001b[0mchunk\u001b[0m\u001b[0;34m)\u001b[0m \u001b[0;34m==\u001b[0m \u001b[0;36m0\u001b[0m\u001b[0;34m:\u001b[0m\u001b[0;34m\u001b[0m\u001b[0;34m\u001b[0m\u001b[0m\n\u001b[1;32m      7\u001b[0m             \u001b[0;32mbreak\u001b[0m\u001b[0;34m\u001b[0m\u001b[0;34m\u001b[0m\u001b[0m\n",
            "\u001b[0;31mKeyboardInterrupt\u001b[0m: "
          ]
        }
      ]
    },
    {
      "metadata": {
        "id": "L99-iaU9A-zD",
        "colab_type": "text"
      },
      "cell_type": "markdown",
      "source": [
        "### Check OP"
      ]
    },
    {
      "metadata": {
        "id": "5E5UUbMmhSwu",
        "colab_type": "code",
        "colab": {}
      },
      "cell_type": "code",
      "source": [
        "import os\n",
        "\n",
        "def load_sol(testroot):\n",
        "    solfilename = testroot+'sol.txt'\n",
        "\n",
        "    sol = open(solfilename, 'r')\n",
        "    acans = {}\n",
        "    tot = 0\n",
        "    while True:\n",
        "        line = sol.readline()\n",
        "\n",
        "        if line == '':\n",
        "            break\n",
        "        line = line.split(' ')\n",
        "        \n",
        "        tot += 1\n",
        "        acans[line[0]] = line[1]  \n",
        "    \n",
        "    print(\"loaded: \"+str(tot))\n",
        "    return acans\n"
      ],
      "execution_count": 0,
      "outputs": []
    },
    {
      "metadata": {
        "id": "q3NWK1hJBSyH",
        "colab_type": "code",
        "colab": {}
      },
      "cell_type": "code",
      "source": [
        "def compare_sol(testroot, acans):\n",
        "#     opfilename = input()\n",
        "    opfilename = 'op.txt'\n",
        "    opfilename = testroot+opfilename\n",
        "    op = open(opfilename, 'r')\n",
        "    ac = 0\n",
        "    tot = 0\n",
        "    errors = []\n",
        "    while True:\n",
        "        line = op.readline()\n",
        "\n",
        "        if line == '':\n",
        "            break\n",
        "\n",
        "        line = line.split(' ')\n",
        "\n",
        "        if len(line) !=2 :\n",
        "            print('wrong format')\n",
        "            break\n",
        "\n",
        "        if acans[line[0]] == line[1]:\n",
        "            ac+=1\n",
        "        else:\n",
        "            a = [line[0], line[1].strip('\\n'), acans[line[0]].strip('\\n')]\n",
        "            errors.append(a)\n",
        "            print(a)\n",
        "        tot+=1\n",
        "\n",
        "    print(ac)\n",
        "    print(ac/tot*100)\n",
        "    return errors, ac, tot"
      ],
      "execution_count": 0,
      "outputs": []
    },
    {
      "metadata": {
        "id": "gl0-TYNRD_go",
        "colab_type": "code",
        "colab": {
          "base_uri": "https://localhost:8080/",
          "height": 10045
        },
        "outputId": "27b0ae07-f6ce-42c7-8526-7b44d7be8fbf"
      },
      "cell_type": "code",
      "source": [
        "import json\n",
        "import os\n",
        "\n",
        "dump_route = root+'../test_dump.txt'\n",
        "\n",
        "c = 0\n",
        "while True:\n",
        "    if os.path.isfile(root+'../breakfile'):\n",
        "        break\n",
        "        \n",
        "    testset, testset_size = get_set(data_ind)\n",
        "    gen_test(testroot, testset_size, testset)\n",
        "    \n",
        "    !python3 '{root}/../../../dsaa-project/main.py'\n",
        "    \n",
        "    acans = load_sol(testroot)\n",
        "    errors, ac, tot = compare_sol(testroot, acans)\n",
        "    \n",
        "    if ac!=tot:\n",
        "        c+=1\n",
        "        with open(dump_route, 'a') as dump:\n",
        "            dumpstr = json.dumps({\"errors\": errors, \"ac\":ac, \"tot\":tot})\n",
        "            for j in range(len(errors)):\n",
        "                !mkdir -p '{root}../errors/test_{c}/err_{j}'\n",
        "                !cp '{testroot}frames/{errors[j][0]}' '{root}../errors/test_{c}/err_{j}/frame.jpg'\n",
        "                !cp '{testroot}frames/{errors[j][1]}' '{root}../errors/test_{c}/err_{j}/incorrect_match.jpg'\n",
        "                !cp '{testroot}frames/{errors[j][2]}' '{root}../errors/test_{c}/err_{j}/correct_match.jpg'\n",
        "            dump.write(dumpstr + '\\n')\n",
        "        \n",
        "    "
      ],
      "execution_count": 75,
      "outputs": [
        {
          "output_type": "stream",
          "text": [
            "test size: 278\n",
            "/content/gdrive/My Drive/data/Data/new_test/\n",
            "[Errno 17] File exists: '/content/gdrive/My Drive/data/Data/new_test/'\n"
          ],
          "name": "stdout"
        },
        {
          "output_type": "display_data",
          "data": {
            "text/html": [
              "\n",
              "        <progress\n",
              "            value='278'\n",
              "            max='278',\n",
              "            style='width: 100%'\n",
              "        >\n",
              "            278\n",
              "        </progress>\n",
              "    "
            ],
            "text/plain": [
              "<IPython.core.display.HTML object>"
            ]
          },
          "metadata": {
            "tags": []
          }
        },
        {
          "output_type": "stream",
          "text": [
            "Drive already mounted at /content/gdrive; to attempt to forcibly remount, call drive.mount(\"/content/gdrive\", force_remount=True).\n",
            "1/278\n",
            "2/278\n",
            "3/278\n",
            "4/278\n",
            "5/278\n",
            "6/278\n",
            "7/278\n",
            "8/278\n",
            "9/278\n",
            "10/278\n",
            "11/278\n",
            "12/278\n",
            "13/278\n",
            "14/278\n",
            "15/278\n",
            "16/278\n",
            "17/278\n",
            "18/278\n",
            "19/278\n",
            "20/278\n",
            "21/278\n",
            "22/278\n",
            "23/278\n",
            "24/278\n",
            "25/278\n",
            "26/278\n",
            "27/278\n",
            "28/278\n",
            "29/278\n",
            "30/278\n",
            "31/278\n",
            "32/278\n",
            "33/278\n",
            "34/278\n",
            "35/278\n",
            "36/278\n",
            "37/278\n",
            "38/278\n",
            "39/278\n",
            "40/278\n",
            "41/278\n",
            "42/278\n",
            "43/278\n",
            "44/278\n",
            "45/278\n",
            "46/278\n",
            "47/278\n",
            "48/278\n",
            "49/278\n",
            "50/278\n",
            "51/278\n",
            "52/278\n",
            "53/278\n",
            "54/278\n",
            "55/278\n",
            "56/278\n",
            "57/278\n",
            "58/278\n",
            "59/278\n",
            "60/278\n",
            "61/278\n",
            "62/278\n",
            "63/278\n",
            "64/278\n",
            "65/278\n",
            "66/278\n",
            "67/278\n",
            "68/278\n",
            "69/278\n",
            "70/278\n",
            "71/278\n",
            "72/278\n",
            "73/278\n",
            "74/278\n",
            "75/278\n",
            "76/278\n",
            "77/278\n",
            "78/278\n",
            "79/278\n",
            "80/278\n",
            "81/278\n",
            "82/278\n",
            "83/278\n",
            "84/278\n",
            "85/278\n",
            "86/278\n",
            "87/278\n",
            "88/278\n",
            "89/278\n",
            "90/278\n",
            "91/278\n",
            "92/278\n",
            "93/278\n",
            "94/278\n",
            "95/278\n",
            "96/278\n",
            "97/278\n",
            "98/278\n",
            "99/278\n",
            "100/278\n",
            "101/278\n",
            "102/278\n",
            "103/278\n",
            "104/278\n",
            "105/278\n",
            "106/278\n",
            "107/278\n",
            "108/278\n",
            "109/278\n",
            "110/278\n",
            "111/278\n",
            "112/278\n",
            "113/278\n",
            "114/278\n",
            "115/278\n",
            "116/278\n",
            "117/278\n",
            "118/278\n",
            "119/278\n",
            "120/278\n",
            "121/278\n",
            "122/278\n",
            "123/278\n",
            "124/278\n",
            "125/278\n",
            "126/278\n",
            "127/278\n",
            "128/278\n",
            "129/278\n",
            "130/278\n",
            "131/278\n",
            "132/278\n",
            "133/278\n",
            "134/278\n",
            "135/278\n",
            "136/278\n",
            "137/278\n",
            "138/278\n",
            "139/278\n",
            "140/278\n",
            "141/278\n",
            "142/278\n",
            "143/278\n",
            "144/278\n",
            "145/278\n",
            "146/278\n",
            "147/278\n",
            "148/278\n",
            "149/278\n",
            "150/278\n",
            "151/278\n",
            "152/278\n",
            "153/278\n",
            "154/278\n",
            "155/278\n",
            "156/278\n",
            "157/278\n",
            "158/278\n",
            "159/278\n",
            "160/278\n",
            "161/278\n",
            "162/278\n",
            "163/278\n",
            "164/278\n",
            "165/278\n",
            "166/278\n",
            "167/278\n",
            "168/278\n",
            "169/278\n",
            "170/278\n",
            "171/278\n",
            "172/278\n",
            "173/278\n",
            "174/278\n",
            "175/278\n",
            "176/278\n",
            "177/278\n",
            "178/278\n",
            "179/278\n",
            "180/278\n",
            "181/278\n",
            "182/278\n",
            "183/278\n",
            "184/278\n",
            "185/278\n",
            "186/278\n",
            "187/278\n",
            "188/278\n",
            "189/278\n",
            "190/278\n",
            "191/278\n",
            "192/278\n",
            "193/278\n",
            "194/278\n",
            "195/278\n",
            "196/278\n",
            "197/278\n",
            "198/278\n",
            "199/278\n",
            "200/278\n",
            "201/278\n",
            "202/278\n",
            "203/278\n",
            "204/278\n",
            "205/278\n",
            "206/278\n",
            "207/278\n",
            "208/278\n",
            "209/278\n",
            "210/278\n",
            "211/278\n",
            "212/278\n",
            "213/278\n",
            "214/278\n",
            "215/278\n",
            "216/278\n",
            "217/278\n",
            "218/278\n",
            "219/278\n",
            "220/278\n",
            "221/278\n",
            "222/278\n",
            "223/278\n",
            "224/278\n",
            "225/278\n",
            "226/278\n",
            "227/278\n",
            "228/278\n",
            "229/278\n",
            "230/278\n",
            "231/278\n",
            "232/278\n",
            "233/278\n",
            "234/278\n",
            "235/278\n",
            "236/278\n",
            "237/278\n",
            "238/278\n",
            "239/278\n",
            "240/278\n",
            "241/278\n",
            "242/278\n",
            "243/278\n",
            "244/278\n",
            "245/278\n",
            "246/278\n",
            "247/278\n",
            "248/278\n",
            "249/278\n",
            "250/278\n",
            "251/278\n",
            "252/278\n",
            "253/278\n",
            "254/278\n",
            "255/278\n",
            "256/278\n",
            "257/278\n",
            "258/278\n",
            "259/278\n",
            "260/278\n",
            "261/278\n",
            "262/278\n",
            "263/278\n",
            "264/278\n",
            "265/278\n",
            "266/278\n",
            "267/278\n",
            "268/278\n",
            "269/278\n",
            "270/278\n",
            "271/278\n",
            "272/278\n",
            "273/278\n",
            "274/278\n",
            "275/278\n",
            "276/278\n",
            "277/278\n",
            "278/278\n",
            "loaded: 278\n",
            "['18.jpg', '08_2.jpg\\n', '09_2.jpg\\n']\n",
            "['20.jpg', '09_6.jpg\\n', '08_11.jpg\\n']\n",
            "['27.jpg', '12_11.jpg\\n', '09_17.jpg\\n']\n",
            "['35.jpg', '12_15.jpg\\n', '12_14.jpg\\n']\n",
            "['50.jpg', '08_2.jpg\\n', '09_2.jpg\\n']\n",
            "['73.jpg', '03_18.jpg\\n', '09_31.jpg\\n']\n",
            "['75.jpg', '12_15.jpg\\n', '12_14.jpg\\n']\n",
            "['78.jpg', '14_16.jpg\\n', '03_5.jpg\\n']\n",
            "['96.jpg', '14_16.jpg\\n', '03_25.jpg\\n']\n",
            "['130.jpg', '03_18.jpg\\n', '09_31.jpg\\n']\n",
            "['165.jpg', '08_14.jpg\\n', '08_12.jpg\\n']\n",
            "['166.jpg', '12_15.jpg\\n', '02_5.jpg\\n']\n",
            "['167.jpg', '12_15.jpg\\n', '12_16.jpg\\n']\n",
            "['192.jpg', '02_9.jpg\\n', '03_28.jpg\\n']\n",
            "['204.jpg', '09_4.jpg\\n', '08_6.jpg\\n']\n",
            "['214.jpg', '08_2.jpg\\n', '09_2.jpg\\n']\n",
            "['224.jpg', '09_1.jpg\\n', '08_5.jpg\\n']\n",
            "['250.jpg', '02_9.jpg\\n', '03_5.jpg\\n']\n",
            "['251.jpg', '12_15.jpg\\n', '12_16.jpg\\n']\n",
            "['254.jpg', '08_14.jpg\\n', '08_12.jpg\\n']\n",
            "258\n",
            "92.80575539568345\n",
            "cp: cannot create regular file '/content/gdrive/My Drive/data/Data/Dataset/../errors/test_0/err_0/frame.jpg': No such file or directory\n",
            "cp: cannot stat '/content/gdrive/My Drive/data/Data/new_test/frames/08_2.jpg'$'\\n': No such file or directory\n",
            "cp: cannot stat '/content/gdrive/My Drive/data/Data/new_test/frames/09_2.jpg'$'\\n': No such file or directory\n",
            "cp: cannot create regular file '/content/gdrive/My Drive/data/Data/Dataset/../errors/test_0/err_1/frame.jpg': No such file or directory\n",
            "cp: cannot stat '/content/gdrive/My Drive/data/Data/new_test/frames/09_6.jpg'$'\\n': No such file or directory\n",
            "cp: cannot stat '/content/gdrive/My Drive/data/Data/new_test/frames/08_11.jpg'$'\\n': No such file or directory\n",
            "cp: cannot create regular file '/content/gdrive/My Drive/data/Data/Dataset/../errors/test_0/err_2/frame.jpg': No such file or directory\n",
            "cp: cannot stat '/content/gdrive/My Drive/data/Data/new_test/frames/12_11.jpg'$'\\n': No such file or directory\n",
            "cp: cannot stat '/content/gdrive/My Drive/data/Data/new_test/frames/09_17.jpg'$'\\n': No such file or directory\n",
            "cp: cannot create regular file '/content/gdrive/My Drive/data/Data/Dataset/../errors/test_0/err_3/frame.jpg': No such file or directory\n",
            "cp: cannot stat '/content/gdrive/My Drive/data/Data/new_test/frames/12_15.jpg'$'\\n': No such file or directory\n",
            "cp: cannot stat '/content/gdrive/My Drive/data/Data/new_test/frames/12_14.jpg'$'\\n': No such file or directory\n",
            "cp: cannot create regular file '/content/gdrive/My Drive/data/Data/Dataset/../errors/test_0/err_4/frame.jpg': No such file or directory\n",
            "cp: cannot stat '/content/gdrive/My Drive/data/Data/new_test/frames/08_2.jpg'$'\\n': No such file or directory\n",
            "cp: cannot stat '/content/gdrive/My Drive/data/Data/new_test/frames/09_2.jpg'$'\\n': No such file or directory\n",
            "cp: cannot create regular file '/content/gdrive/My Drive/data/Data/Dataset/../errors/test_0/err_5/frame.jpg': No such file or directory\n",
            "cp: cannot stat '/content/gdrive/My Drive/data/Data/new_test/frames/03_18.jpg'$'\\n': No such file or directory\n",
            "cp: cannot stat '/content/gdrive/My Drive/data/Data/new_test/frames/09_31.jpg'$'\\n': No such file or directory\n",
            "cp: cannot create regular file '/content/gdrive/My Drive/data/Data/Dataset/../errors/test_0/err_6/frame.jpg': No such file or directory\n",
            "cp: cannot stat '/content/gdrive/My Drive/data/Data/new_test/frames/12_15.jpg'$'\\n': No such file or directory\n",
            "cp: cannot stat '/content/gdrive/My Drive/data/Data/new_test/frames/12_14.jpg'$'\\n': No such file or directory\n",
            "cp: cannot create regular file '/content/gdrive/My Drive/data/Data/Dataset/../errors/test_0/err_7/frame.jpg': No such file or directory\n",
            "cp: cannot stat '/content/gdrive/My Drive/data/Data/new_test/frames/14_16.jpg'$'\\n': No such file or directory\n",
            "cp: cannot stat '/content/gdrive/My Drive/data/Data/new_test/frames/03_5.jpg'$'\\n': No such file or directory\n",
            "cp: cannot create regular file '/content/gdrive/My Drive/data/Data/Dataset/../errors/test_0/err_8/frame.jpg': No such file or directory\n",
            "cp: cannot stat '/content/gdrive/My Drive/data/Data/new_test/frames/14_16.jpg'$'\\n': No such file or directory\n",
            "cp: cannot stat '/content/gdrive/My Drive/data/Data/new_test/frames/03_25.jpg'$'\\n': No such file or directory\n",
            "cp: cannot create regular file '/content/gdrive/My Drive/data/Data/Dataset/../errors/test_0/err_9/frame.jpg': No such file or directory\n",
            "cp: cannot stat '/content/gdrive/My Drive/data/Data/new_test/frames/03_18.jpg'$'\\n': No such file or directory\n",
            "cp: cannot stat '/content/gdrive/My Drive/data/Data/new_test/frames/09_31.jpg'$'\\n': No such file or directory\n",
            "cp: cannot create regular file '/content/gdrive/My Drive/data/Data/Dataset/../errors/test_0/err_10/frame.jpg': No such file or directory\n",
            "cp: cannot stat '/content/gdrive/My Drive/data/Data/new_test/frames/08_14.jpg'$'\\n': No such file or directory\n",
            "cp: cannot stat '/content/gdrive/My Drive/data/Data/new_test/frames/08_12.jpg'$'\\n': No such file or directory\n",
            "cp: cannot create regular file '/content/gdrive/My Drive/data/Data/Dataset/../errors/test_0/err_11/frame.jpg': No such file or directory\n",
            "cp: cannot stat '/content/gdrive/My Drive/data/Data/new_test/frames/12_15.jpg'$'\\n': No such file or directory\n",
            "cp: cannot stat '/content/gdrive/My Drive/data/Data/new_test/frames/02_5.jpg'$'\\n': No such file or directory\n",
            "cp: cannot create regular file '/content/gdrive/My Drive/data/Data/Dataset/../errors/test_0/err_12/frame.jpg': No such file or directory\n",
            "cp: cannot stat '/content/gdrive/My Drive/data/Data/new_test/frames/12_15.jpg'$'\\n': No such file or directory\n",
            "cp: cannot stat '/content/gdrive/My Drive/data/Data/new_test/frames/12_16.jpg'$'\\n': No such file or directory\n",
            "cp: cannot create regular file '/content/gdrive/My Drive/data/Data/Dataset/../errors/test_0/err_13/frame.jpg': No such file or directory\n",
            "cp: cannot stat '/content/gdrive/My Drive/data/Data/new_test/frames/02_9.jpg'$'\\n': No such file or directory\n",
            "cp: cannot stat '/content/gdrive/My Drive/data/Data/new_test/frames/03_28.jpg'$'\\n': No such file or directory\n",
            "cp: cannot create regular file '/content/gdrive/My Drive/data/Data/Dataset/../errors/test_0/err_14/frame.jpg': No such file or directory\n",
            "cp: cannot stat '/content/gdrive/My Drive/data/Data/new_test/frames/09_4.jpg'$'\\n': No such file or directory\n",
            "cp: cannot stat '/content/gdrive/My Drive/data/Data/new_test/frames/08_6.jpg'$'\\n': No such file or directory\n",
            "cp: cannot create regular file '/content/gdrive/My Drive/data/Data/Dataset/../errors/test_0/err_15/frame.jpg': No such file or directory\n",
            "cp: cannot stat '/content/gdrive/My Drive/data/Data/new_test/frames/08_2.jpg'$'\\n': No such file or directory\n",
            "cp: cannot stat '/content/gdrive/My Drive/data/Data/new_test/frames/09_2.jpg'$'\\n': No such file or directory\n",
            "cp: cannot create regular file '/content/gdrive/My Drive/data/Data/Dataset/../errors/test_0/err_16/frame.jpg': No such file or directory\n",
            "cp: cannot stat '/content/gdrive/My Drive/data/Data/new_test/frames/09_1.jpg'$'\\n': No such file or directory\n",
            "cp: cannot stat '/content/gdrive/My Drive/data/Data/new_test/frames/08_5.jpg'$'\\n': No such file or directory\n",
            "cp: cannot create regular file '/content/gdrive/My Drive/data/Data/Dataset/../errors/test_0/err_17/frame.jpg': No such file or directory\n",
            "cp: cannot stat '/content/gdrive/My Drive/data/Data/new_test/frames/02_9.jpg'$'\\n': No such file or directory\n",
            "cp: cannot stat '/content/gdrive/My Drive/data/Data/new_test/frames/03_5.jpg'$'\\n': No such file or directory\n",
            "cp: cannot create regular file '/content/gdrive/My Drive/data/Data/Dataset/../errors/test_0/err_18/frame.jpg': No such file or directory\n",
            "cp: cannot stat '/content/gdrive/My Drive/data/Data/new_test/frames/12_15.jpg'$'\\n': No such file or directory\n",
            "cp: cannot stat '/content/gdrive/My Drive/data/Data/new_test/frames/12_16.jpg'$'\\n': No such file or directory\n",
            "cp: cannot create regular file '/content/gdrive/My Drive/data/Data/Dataset/../errors/test_0/err_19/frame.jpg': No such file or directory\n",
            "cp: cannot stat '/content/gdrive/My Drive/data/Data/new_test/frames/08_14.jpg'$'\\n': No such file or directory\n",
            "cp: cannot stat '/content/gdrive/My Drive/data/Data/new_test/frames/08_12.jpg'$'\\n': No such file or directory\n",
            "test size: 240\n",
            "/content/gdrive/My Drive/data/Data/new_test/\n",
            "[Errno 17] File exists: '/content/gdrive/My Drive/data/Data/new_test/'\n"
          ],
          "name": "stdout"
        },
        {
          "output_type": "display_data",
          "data": {
            "text/html": [
              "\n",
              "        <progress\n",
              "            value='240'\n",
              "            max='240',\n",
              "            style='width: 100%'\n",
              "        >\n",
              "            240\n",
              "        </progress>\n",
              "    "
            ],
            "text/plain": [
              "<IPython.core.display.HTML object>"
            ]
          },
          "metadata": {
            "tags": []
          }
        },
        {
          "output_type": "stream",
          "text": [
            "Drive already mounted at /content/gdrive; to attempt to forcibly remount, call drive.mount(\"/content/gdrive\", force_remount=True).\n",
            "1/240\n",
            "2/240\n",
            "3/240\n",
            "4/240\n",
            "5/240\n",
            "6/240\n",
            "7/240\n",
            "8/240\n",
            "9/240\n",
            "10/240\n",
            "11/240\n",
            "12/240\n",
            "13/240\n",
            "14/240\n",
            "15/240\n",
            "16/240\n",
            "17/240\n",
            "18/240\n",
            "19/240\n",
            "20/240\n",
            "21/240\n",
            "22/240\n",
            "23/240\n",
            "24/240\n",
            "25/240\n",
            "26/240\n",
            "27/240\n",
            "28/240\n",
            "29/240\n",
            "30/240\n",
            "31/240\n",
            "32/240\n",
            "33/240\n",
            "34/240\n",
            "35/240\n",
            "36/240\n",
            "37/240\n",
            "38/240\n",
            "39/240\n",
            "40/240\n",
            "41/240\n",
            "42/240\n",
            "43/240\n",
            "44/240\n",
            "45/240\n",
            "46/240\n",
            "47/240\n",
            "48/240\n",
            "49/240\n",
            "50/240\n",
            "51/240\n",
            "52/240\n",
            "53/240\n",
            "54/240\n",
            "55/240\n",
            "56/240\n",
            "57/240\n",
            "58/240\n",
            "59/240\n",
            "60/240\n",
            "61/240\n",
            "62/240\n",
            "63/240\n",
            "64/240\n",
            "65/240\n",
            "66/240\n",
            "67/240\n",
            "68/240\n",
            "69/240\n",
            "70/240\n",
            "71/240\n",
            "72/240\n",
            "73/240\n",
            "74/240\n",
            "75/240\n",
            "76/240\n",
            "77/240\n",
            "78/240\n",
            "79/240\n",
            "80/240\n",
            "81/240\n",
            "82/240\n",
            "83/240\n",
            "84/240\n",
            "85/240\n",
            "86/240\n",
            "87/240\n",
            "88/240\n",
            "89/240\n",
            "90/240\n",
            "91/240\n",
            "92/240\n",
            "93/240\n",
            "94/240\n",
            "95/240\n",
            "96/240\n",
            "97/240\n",
            "98/240\n",
            "99/240\n",
            "100/240\n",
            "101/240\n",
            "102/240\n",
            "103/240\n",
            "104/240\n",
            "105/240\n",
            "106/240\n",
            "107/240\n",
            "108/240\n",
            "109/240\n",
            "110/240\n",
            "111/240\n",
            "112/240\n",
            "113/240\n",
            "114/240\n",
            "115/240\n",
            "116/240\n",
            "117/240\n",
            "118/240\n",
            "119/240\n",
            "120/240\n",
            "121/240\n",
            "122/240\n",
            "123/240\n",
            "124/240\n",
            "125/240\n",
            "126/240\n",
            "127/240\n",
            "128/240\n",
            "Traceback (most recent call last):\n",
            "  File \"/content/gdrive/My Drive/data/Data/Dataset//../../../dsaa-project/main.py\", line 99, in <module>\n",
            "  File \"/content/gdrive/My Drive/data/Data/Dataset//../../../dsaa-project/main.py\", line 84, in compare\n",
            "    return np.sum((frame-mean_f)*(ppt-mean_p))/(sd_f*sd_p)\n",
            "KeyboardInterrupt\n",
            "loaded: 240\n",
            "['12.jpg', '02_16.jpg\\n', '12_18.jpg\\n']\n",
            "['13.jpg', '08_20.jpg\\n', '09_32.jpg\\n']\n",
            "['14.jpg', '09_8.jpg\\n', '08_12.jpg\\n']\n",
            "['18.jpg', '02_9.jpg\\n', '03_5.jpg\\n']\n",
            "['21.jpg', '09_1.jpg\\n', '08_5.jpg\\n']\n",
            "['30.jpg', '02_16.jpg\\n', '12_16.jpg\\n']\n",
            "['49.jpg', '09_8.jpg\\n', '08_12.jpg\\n']\n",
            "['66.jpg', '02_16.jpg\\n', '12_16.jpg\\n']\n",
            "['108.jpg', '08_20.jpg\\n', '09_32.jpg\\n']\n",
            "119\n",
            "92.96875\n"
          ],
          "name": "stdout"
        },
        {
          "output_type": "error",
          "ename": "KeyboardInterrupt",
          "evalue": "ignored",
          "traceback": [
            "\u001b[0;31m---------------------------------------------------------------------------\u001b[0m",
            "\u001b[0;31mKeyboardInterrupt\u001b[0m                         Traceback (most recent call last)",
            "\u001b[0;32m<ipython-input-75-8dc15aebec97>\u001b[0m in \u001b[0;36m<module>\u001b[0;34m()\u001b[0m\n\u001b[1;32m     22\u001b[0m             \u001b[0mdumpstr\u001b[0m \u001b[0;34m=\u001b[0m \u001b[0mjson\u001b[0m\u001b[0;34m.\u001b[0m\u001b[0mdumps\u001b[0m\u001b[0;34m(\u001b[0m\u001b[0;34m{\u001b[0m\u001b[0;34m\"errors\"\u001b[0m\u001b[0;34m:\u001b[0m \u001b[0merrors\u001b[0m\u001b[0;34m,\u001b[0m \u001b[0;34m\"ac\"\u001b[0m\u001b[0;34m:\u001b[0m\u001b[0mac\u001b[0m\u001b[0;34m,\u001b[0m \u001b[0;34m\"tot\"\u001b[0m\u001b[0;34m:\u001b[0m\u001b[0mtot\u001b[0m\u001b[0;34m}\u001b[0m\u001b[0;34m)\u001b[0m\u001b[0;34m\u001b[0m\u001b[0;34m\u001b[0m\u001b[0m\n\u001b[1;32m     23\u001b[0m             \u001b[0;32mfor\u001b[0m \u001b[0mj\u001b[0m \u001b[0;32min\u001b[0m \u001b[0mrange\u001b[0m\u001b[0;34m(\u001b[0m\u001b[0mlen\u001b[0m\u001b[0;34m(\u001b[0m\u001b[0merrors\u001b[0m\u001b[0;34m)\u001b[0m\u001b[0;34m)\u001b[0m\u001b[0;34m:\u001b[0m\u001b[0;34m\u001b[0m\u001b[0;34m\u001b[0m\u001b[0m\n\u001b[0;32m---> 24\u001b[0;31m                 \u001b[0mget_ipython\u001b[0m\u001b[0;34m(\u001b[0m\u001b[0;34m)\u001b[0m\u001b[0;34m.\u001b[0m\u001b[0msystem\u001b[0m\u001b[0;34m(\u001b[0m\u001b[0;34m\"mkdir -p '{root}../errors/test_{c}/err_{j}'\"\u001b[0m\u001b[0;34m)\u001b[0m\u001b[0;34m\u001b[0m\u001b[0;34m\u001b[0m\u001b[0m\n\u001b[0m\u001b[1;32m     25\u001b[0m                 \u001b[0mget_ipython\u001b[0m\u001b[0;34m(\u001b[0m\u001b[0;34m)\u001b[0m\u001b[0;34m.\u001b[0m\u001b[0msystem\u001b[0m\u001b[0;34m(\u001b[0m\u001b[0;34m\"cp '{testroot}frames/{errors[j][0]}' '{root}../errors/test_{i}/err_{j}/frame.jpg'\"\u001b[0m\u001b[0;34m)\u001b[0m\u001b[0;34m\u001b[0m\u001b[0;34m\u001b[0m\u001b[0m\n\u001b[1;32m     26\u001b[0m                 \u001b[0mget_ipython\u001b[0m\u001b[0;34m(\u001b[0m\u001b[0;34m)\u001b[0m\u001b[0;34m.\u001b[0m\u001b[0msystem\u001b[0m\u001b[0;34m(\u001b[0m\u001b[0;34m\"cp '{testroot}frames/{errors[j][1]}' '{root}../errors/test_{i}/err_{j}/incorrect_match.jpg'\"\u001b[0m\u001b[0;34m)\u001b[0m\u001b[0;34m\u001b[0m\u001b[0;34m\u001b[0m\u001b[0m\n",
            "\u001b[0;32m/usr/local/lib/python3.6/dist-packages/google/colab/_shell.py\u001b[0m in \u001b[0;36msystem\u001b[0;34m(self, *args, **kwargs)\u001b[0m\n\u001b[1;32m     71\u001b[0m       \u001b[0mkwargs\u001b[0m\u001b[0;34m.\u001b[0m\u001b[0mupdate\u001b[0m\u001b[0;34m(\u001b[0m\u001b[0;34m{\u001b[0m\u001b[0;34m'also_return_output'\u001b[0m\u001b[0;34m:\u001b[0m \u001b[0;32mTrue\u001b[0m\u001b[0;34m}\u001b[0m\u001b[0;34m)\u001b[0m\u001b[0;34m\u001b[0m\u001b[0;34m\u001b[0m\u001b[0m\n\u001b[1;32m     72\u001b[0m \u001b[0;34m\u001b[0m\u001b[0m\n\u001b[0;32m---> 73\u001b[0;31m     \u001b[0moutput\u001b[0m \u001b[0;34m=\u001b[0m \u001b[0m_system_commands\u001b[0m\u001b[0;34m.\u001b[0m\u001b[0m_system_compat\u001b[0m\u001b[0;34m(\u001b[0m\u001b[0mself\u001b[0m\u001b[0;34m,\u001b[0m \u001b[0;34m*\u001b[0m\u001b[0margs\u001b[0m\u001b[0;34m,\u001b[0m \u001b[0;34m**\u001b[0m\u001b[0mkwargs\u001b[0m\u001b[0;34m)\u001b[0m  \u001b[0;31m# pylint:disable=protected-access\u001b[0m\u001b[0;34m\u001b[0m\u001b[0;34m\u001b[0m\u001b[0m\n\u001b[0m\u001b[1;32m     74\u001b[0m \u001b[0;34m\u001b[0m\u001b[0m\n\u001b[1;32m     75\u001b[0m     \u001b[0;32mif\u001b[0m \u001b[0mpip_warn\u001b[0m\u001b[0;34m:\u001b[0m\u001b[0;34m\u001b[0m\u001b[0;34m\u001b[0m\u001b[0m\n",
            "\u001b[0;32m/usr/local/lib/python3.6/dist-packages/google/colab/_system_commands.py\u001b[0m in \u001b[0;36m_system_compat\u001b[0;34m(shell, cmd, also_return_output)\u001b[0m\n\u001b[1;32m    436\u001b[0m   \u001b[0;31m# stack.\u001b[0m\u001b[0;34m\u001b[0m\u001b[0;34m\u001b[0m\u001b[0;34m\u001b[0m\u001b[0m\n\u001b[1;32m    437\u001b[0m   result = _run_command(\n\u001b[0;32m--> 438\u001b[0;31m       shell.var_expand(cmd, depth=2), clear_streamed_output=False)\n\u001b[0m\u001b[1;32m    439\u001b[0m   \u001b[0mshell\u001b[0m\u001b[0;34m.\u001b[0m\u001b[0muser_ns\u001b[0m\u001b[0;34m[\u001b[0m\u001b[0;34m'_exit_code'\u001b[0m\u001b[0;34m]\u001b[0m \u001b[0;34m=\u001b[0m \u001b[0mresult\u001b[0m\u001b[0;34m.\u001b[0m\u001b[0mreturncode\u001b[0m\u001b[0;34m\u001b[0m\u001b[0;34m\u001b[0m\u001b[0m\n\u001b[1;32m    440\u001b[0m   \u001b[0;32mif\u001b[0m \u001b[0;34m-\u001b[0m\u001b[0mresult\u001b[0m\u001b[0;34m.\u001b[0m\u001b[0mreturncode\u001b[0m \u001b[0;32min\u001b[0m \u001b[0m_INTERRUPTED_SIGNALS\u001b[0m\u001b[0;34m:\u001b[0m\u001b[0;34m\u001b[0m\u001b[0;34m\u001b[0m\u001b[0m\n",
            "\u001b[0;32m/usr/local/lib/python3.6/dist-packages/google/colab/_system_commands.py\u001b[0m in \u001b[0;36m_run_command\u001b[0;34m(cmd, clear_streamed_output)\u001b[0m\n\u001b[1;32m    179\u001b[0m \u001b[0;34m\u001b[0m\u001b[0m\n\u001b[1;32m    180\u001b[0m     with temporary_clearer(), _display_stdin_widget(\n\u001b[0;32m--> 181\u001b[0;31m         delay_millis=500) as update_stdin_widget:\n\u001b[0m\u001b[1;32m    182\u001b[0m       \u001b[0;31m# TODO(b/115531839): Ensure that subprocesses are terminated upon\u001b[0m\u001b[0;34m\u001b[0m\u001b[0;34m\u001b[0m\u001b[0;34m\u001b[0m\u001b[0m\n\u001b[1;32m    183\u001b[0m       \u001b[0;31m# interrupt.\u001b[0m\u001b[0;34m\u001b[0m\u001b[0;34m\u001b[0m\u001b[0;34m\u001b[0m\u001b[0m\n",
            "\u001b[0;32m/usr/lib/python3.6/contextlib.py\u001b[0m in \u001b[0;36m__enter__\u001b[0;34m(self)\u001b[0m\n\u001b[1;32m     79\u001b[0m     \u001b[0;32mdef\u001b[0m \u001b[0m__enter__\u001b[0m\u001b[0;34m(\u001b[0m\u001b[0mself\u001b[0m\u001b[0;34m)\u001b[0m\u001b[0;34m:\u001b[0m\u001b[0;34m\u001b[0m\u001b[0;34m\u001b[0m\u001b[0m\n\u001b[1;32m     80\u001b[0m         \u001b[0;32mtry\u001b[0m\u001b[0;34m:\u001b[0m\u001b[0;34m\u001b[0m\u001b[0;34m\u001b[0m\u001b[0m\n\u001b[0;32m---> 81\u001b[0;31m             \u001b[0;32mreturn\u001b[0m \u001b[0mnext\u001b[0m\u001b[0;34m(\u001b[0m\u001b[0mself\u001b[0m\u001b[0;34m.\u001b[0m\u001b[0mgen\u001b[0m\u001b[0;34m)\u001b[0m\u001b[0;34m\u001b[0m\u001b[0;34m\u001b[0m\u001b[0m\n\u001b[0m\u001b[1;32m     82\u001b[0m         \u001b[0;32mexcept\u001b[0m \u001b[0mStopIteration\u001b[0m\u001b[0;34m:\u001b[0m\u001b[0;34m\u001b[0m\u001b[0;34m\u001b[0m\u001b[0m\n\u001b[1;32m     83\u001b[0m             \u001b[0;32mraise\u001b[0m \u001b[0mRuntimeError\u001b[0m\u001b[0;34m(\u001b[0m\u001b[0;34m\"generator didn't yield\"\u001b[0m\u001b[0;34m)\u001b[0m \u001b[0;32mfrom\u001b[0m \u001b[0;32mNone\u001b[0m\u001b[0;34m\u001b[0m\u001b[0;34m\u001b[0m\u001b[0m\n",
            "\u001b[0;32m/usr/local/lib/python3.6/dist-packages/google/colab/_system_commands.py\u001b[0m in \u001b[0;36m_display_stdin_widget\u001b[0;34m(delay_millis)\u001b[0m\n\u001b[1;32m    339\u001b[0m   \u001b[0mshell\u001b[0m \u001b[0;34m=\u001b[0m \u001b[0m_ipython\u001b[0m\u001b[0;34m.\u001b[0m\u001b[0mget_ipython\u001b[0m\u001b[0;34m(\u001b[0m\u001b[0;34m)\u001b[0m\u001b[0;34m\u001b[0m\u001b[0;34m\u001b[0m\u001b[0m\n\u001b[1;32m    340\u001b[0m   \u001b[0mdisplay_args\u001b[0m \u001b[0;34m=\u001b[0m \u001b[0;34m[\u001b[0m\u001b[0;34m'cell_display_stdin'\u001b[0m\u001b[0;34m,\u001b[0m \u001b[0;34m{\u001b[0m\u001b[0;34m'delayMillis'\u001b[0m\u001b[0;34m:\u001b[0m \u001b[0mdelay_millis\u001b[0m\u001b[0;34m}\u001b[0m\u001b[0;34m]\u001b[0m\u001b[0;34m\u001b[0m\u001b[0;34m\u001b[0m\u001b[0m\n\u001b[0;32m--> 341\u001b[0;31m   \u001b[0m_message\u001b[0m\u001b[0;34m.\u001b[0m\u001b[0mblocking_request\u001b[0m\u001b[0;34m(\u001b[0m\u001b[0;34m*\u001b[0m\u001b[0mdisplay_args\u001b[0m\u001b[0;34m,\u001b[0m \u001b[0mparent\u001b[0m\u001b[0;34m=\u001b[0m\u001b[0mshell\u001b[0m\u001b[0;34m.\u001b[0m\u001b[0mparent_header\u001b[0m\u001b[0;34m)\u001b[0m\u001b[0;34m\u001b[0m\u001b[0;34m\u001b[0m\u001b[0m\n\u001b[0m\u001b[1;32m    342\u001b[0m \u001b[0;34m\u001b[0m\u001b[0m\n\u001b[1;32m    343\u001b[0m   \u001b[0;32mdef\u001b[0m \u001b[0mecho_updater\u001b[0m\u001b[0;34m(\u001b[0m\u001b[0mnew_echo_status\u001b[0m\u001b[0;34m)\u001b[0m\u001b[0;34m:\u001b[0m\u001b[0;34m\u001b[0m\u001b[0;34m\u001b[0m\u001b[0m\n",
            "\u001b[0;32m/usr/local/lib/python3.6/dist-packages/google/colab/_message.py\u001b[0m in \u001b[0;36mblocking_request\u001b[0;34m(request_type, request, timeout_sec, parent)\u001b[0m\n\u001b[1;32m    169\u001b[0m   \u001b[0;31m# unique.\u001b[0m\u001b[0;34m\u001b[0m\u001b[0;34m\u001b[0m\u001b[0;34m\u001b[0m\u001b[0m\n\u001b[1;32m    170\u001b[0m   \u001b[0mrequest_id\u001b[0m \u001b[0;34m=\u001b[0m \u001b[0msend_request\u001b[0m\u001b[0;34m(\u001b[0m\u001b[0mrequest_type\u001b[0m\u001b[0;34m,\u001b[0m \u001b[0mrequest\u001b[0m\u001b[0;34m,\u001b[0m \u001b[0mparent\u001b[0m\u001b[0;34m=\u001b[0m\u001b[0mparent\u001b[0m\u001b[0;34m)\u001b[0m\u001b[0;34m\u001b[0m\u001b[0;34m\u001b[0m\u001b[0m\n\u001b[0;32m--> 171\u001b[0;31m   \u001b[0;32mreturn\u001b[0m \u001b[0mread_reply_from_input\u001b[0m\u001b[0;34m(\u001b[0m\u001b[0mrequest_id\u001b[0m\u001b[0;34m,\u001b[0m \u001b[0mtimeout_sec\u001b[0m\u001b[0;34m)\u001b[0m\u001b[0;34m\u001b[0m\u001b[0;34m\u001b[0m\u001b[0m\n\u001b[0m",
            "\u001b[0;32m/usr/local/lib/python3.6/dist-packages/google/colab/_message.py\u001b[0m in \u001b[0;36mread_reply_from_input\u001b[0;34m(message_id, timeout_sec)\u001b[0m\n\u001b[1;32m     99\u001b[0m     \u001b[0mreply\u001b[0m \u001b[0;34m=\u001b[0m \u001b[0m_read_next_input_message\u001b[0m\u001b[0;34m(\u001b[0m\u001b[0;34m)\u001b[0m\u001b[0;34m\u001b[0m\u001b[0;34m\u001b[0m\u001b[0m\n\u001b[1;32m    100\u001b[0m     \u001b[0;32mif\u001b[0m \u001b[0mreply\u001b[0m \u001b[0;34m==\u001b[0m \u001b[0m_NOT_READY\u001b[0m \u001b[0;32mor\u001b[0m \u001b[0;32mnot\u001b[0m \u001b[0misinstance\u001b[0m\u001b[0;34m(\u001b[0m\u001b[0mreply\u001b[0m\u001b[0;34m,\u001b[0m \u001b[0mdict\u001b[0m\u001b[0;34m)\u001b[0m\u001b[0;34m:\u001b[0m\u001b[0;34m\u001b[0m\u001b[0;34m\u001b[0m\u001b[0m\n\u001b[0;32m--> 101\u001b[0;31m       \u001b[0mtime\u001b[0m\u001b[0;34m.\u001b[0m\u001b[0msleep\u001b[0m\u001b[0;34m(\u001b[0m\u001b[0;36m0.025\u001b[0m\u001b[0;34m)\u001b[0m\u001b[0;34m\u001b[0m\u001b[0;34m\u001b[0m\u001b[0m\n\u001b[0m\u001b[1;32m    102\u001b[0m       \u001b[0;32mcontinue\u001b[0m\u001b[0;34m\u001b[0m\u001b[0;34m\u001b[0m\u001b[0m\n\u001b[1;32m    103\u001b[0m     if (reply.get('type') == 'colab_reply' and\n",
            "\u001b[0;31mKeyboardInterrupt\u001b[0m: "
          ]
        }
      ]
    },
    {
      "metadata": {
        "id": "lZ3XHhtpUunv",
        "colab_type": "code",
        "colab": {
          "base_uri": "https://localhost:8080/",
          "height": 278
        },
        "outputId": "6824c400-9632-4898-8f3a-d07e330d63dd"
      },
      "cell_type": "code",
      "source": [
        "!python3 '{root}/../../../dsaa-project/main.py'"
      ],
      "execution_count": 55,
      "outputs": [
        {
          "output_type": "stream",
          "text": [
            "Drive already mounted at /content/gdrive; to attempt to forcibly remount, call drive.mount(\"/content/gdrive\", force_remount=True).\n",
            "caching frame\n",
            "caching ppt\n",
            "caching ppt\n",
            "caching ppt\n",
            "caching ppt\n",
            "caching ppt\n",
            "caching ppt\n",
            "caching ppt\n",
            "caching frame\n",
            "caching frame\n",
            "caching frame\n",
            "caching frame\n",
            "caching frame\n",
            "caching frame\n"
          ],
          "name": "stdout"
        }
      ]
    },
    {
      "metadata": {
        "id": "qmLRG9P8bFhW",
        "colab_type": "code",
        "colab": {
          "base_uri": "https://localhost:8080/",
          "height": 86
        },
        "outputId": "03965bcc-6792-4fc3-f11d-18a38cd047cb"
      },
      "cell_type": "code",
      "source": [
        "acans = load_sol(testroot)\n",
        "compare_sol(testroot, acans)"
      ],
      "execution_count": 39,
      "outputs": [
        {
          "output_type": "stream",
          "text": [
            "loaded: 19\n",
            "op3.txt\n",
            "19\n",
            "100.0\n"
          ],
          "name": "stdout"
        }
      ]
    },
    {
      "metadata": {
        "id": "oq1TjX3obSZ1",
        "colab_type": "code",
        "colab": {
          "base_uri": "https://localhost:8080/",
          "height": 86
        },
        "outputId": "12d75aea-59df-4efa-97ac-0155ca165882"
      },
      "cell_type": "code",
      "source": [
        "testset, testset_size = get_set(data_ind)\n",
        "gen_test(testroot, testset_size, testset)"
      ],
      "execution_count": 54,
      "outputs": [
        {
          "output_type": "stream",
          "text": [
            "test size: 7\n",
            "/content/gdrive/My Drive/data/Data/new_test/\n",
            "[Errno 17] File exists: '/content/gdrive/My Drive/data/Data/new_test/'\n"
          ],
          "name": "stdout"
        },
        {
          "output_type": "display_data",
          "data": {
            "text/html": [
              "\n",
              "        <progress\n",
              "            value='7'\n",
              "            max='7',\n",
              "            style='width: 100%'\n",
              "        >\n",
              "            7\n",
              "        </progress>\n",
              "    "
            ],
            "text/plain": [
              "<IPython.core.display.HTML object>"
            ]
          },
          "metadata": {
            "tags": []
          }
        }
      ]
    },
    {
      "metadata": {
        "id": "-wJpoHk1cCNy",
        "colab_type": "code",
        "colab": {}
      },
      "cell_type": "code",
      "source": [
        "!rm -rf '{root}../errors'"
      ],
      "execution_count": 0,
      "outputs": []
    },
    {
      "metadata": {
        "id": "qivhXJmph38p",
        "colab_type": "code",
        "colab": {}
      },
      "cell_type": "code",
      "source": [
        ""
      ],
      "execution_count": 0,
      "outputs": []
    }
  ]
}