{
  "nbformat": 4,
  "nbformat_minor": 0,
  "metadata": {
    "colab": {
      "name": "tester.ipynb",
      "version": "0.3.2",
      "provenance": [],
      "collapsed_sections": [],
      "toc_visible": true,
      "include_colab_link": true
    },
    "kernelspec": {
      "name": "python3",
      "display_name": "Python 3"
    }
  },
  "cells": [
    {
      "cell_type": "markdown",
      "metadata": {
        "id": "view-in-github",
        "colab_type": "text"
      },
      "source": [
        "<a href=\"https://colab.research.google.com/github/alti-tude/video-slide-matching/blob/master/tester.ipynb\" target=\"_parent\"><img src=\"https://colab.research.google.com/assets/colab-badge.svg\" alt=\"Open In Colab\"/></a>"
      ]
    },
    {
      "metadata": {
        "id": "vDoeI2yqk_C2",
        "colab_type": "text"
      },
      "cell_type": "markdown",
      "source": [
        "\n",
        "# Run This Once to Initialize the Drive"
      ]
    },
    {
      "metadata": {
        "id": "LHV5dXEyXyVI",
        "colab_type": "code",
        "colab": {
          "base_uri": "https://localhost:8080/",
          "height": 34
        },
        "outputId": "beb3623e-03b9-45b1-9686-6c79056b02ed"
      },
      "cell_type": "code",
      "source": [
        "from google.colab import drive\n",
        "\n",
        "drive.mount('/content/gdrive', force_remount=True)"
      ],
      "execution_count": 17,
      "outputs": [
        {
          "output_type": "stream",
          "text": [
            "Mounted at /content/gdrive\n"
          ],
          "name": "stdout"
        }
      ]
    },
    {
      "metadata": {
        "id": "hpTPOA67g6fg",
        "colab_type": "code",
        "colab": {}
      },
      "cell_type": "code",
      "source": [
        "!mkdir '/content/gdrive/My Drive/data'\n",
        "!cp -r '/content/gdrive/My Drive/Data' '/content/gdrive/My Drive/data'"
      ],
      "execution_count": 0,
      "outputs": []
    },
    {
      "metadata": {
        "id": "XSDRTqOF_gZ6",
        "colab_type": "text"
      },
      "cell_type": "markdown",
      "source": [
        "# Test Generator"
      ]
    },
    {
      "metadata": {
        "id": "PX94O1chZNLD",
        "colab_type": "code",
        "outputId": "cec400d2-bca7-4720-9d22-09213b67b2cc",
        "colab": {
          "base_uri": "https://localhost:8080/",
          "height": 34
        }
      },
      "cell_type": "code",
      "source": [
        "import os\n",
        "root = '/content/gdrive/My Drive/data/Data/Dataset/'\n",
        "data = []\n",
        "data_ind = []\n",
        "for curdir in os.listdir(root):\n",
        "    frames = []\n",
        "    \n",
        "    for imgs in os.listdir(root+curdir):\n",
        "        if 'ppt' not in imgs:\n",
        "            frames.append(root+curdir+'/'+imgs)\n",
        "            data_ind.append({'ppt': root+curdir+'/ppt.jpg', 'frame':root+curdir+'/'+imgs})\n",
        "            \n",
        "    data.append({'ppt': root+curdir+'/ppt.jpg', 'frames':frames})\n",
        "    \n",
        "print(data_ind[1])"
      ],
      "execution_count": 34,
      "outputs": [
        {
          "output_type": "stream",
          "text": [
            "{'ppt': '/content/gdrive/My Drive/data/Data/Dataset/03_7/ppt.jpg', 'frame': '/content/gdrive/My Drive/data/Data/Dataset/03_7/0.jpg'}\n"
          ],
          "name": "stdout"
        }
      ]
    },
    {
      "metadata": {
        "id": "_EZrBLJk_m9J",
        "colab_type": "text"
      },
      "cell_type": "markdown",
      "source": [
        "###  Rerun this for a new test"
      ]
    },
    {
      "metadata": {
        "id": "DCciq_AWZf1u",
        "colab_type": "code",
        "colab": {}
      },
      "cell_type": "code",
      "source": [
        "import random\n",
        "\n",
        "testset_size = random.randint(5, 20)\n",
        "testset = random.sample(data_ind, testset_size)\n"
      ],
      "execution_count": 0,
      "outputs": []
    },
    {
      "metadata": {
        "id": "2GUyQD7Heeod",
        "colab_type": "code",
        "colab": {}
      },
      "cell_type": "code",
      "source": [
        "def cp(source, dest):\n",
        "    ip = open(source, 'rb')\n",
        "    data = b''\n",
        "    while True:\n",
        "        chunk = ip.read()\n",
        "        if len(chunk) == 0:\n",
        "            break\n",
        "        data = data + chunk\n",
        "    \n",
        "    ip.close()\n",
        "    \n",
        "    op = open(dest, 'wb')\n",
        "    op.write(data)"
      ],
      "execution_count": 0,
      "outputs": []
    },
    {
      "metadata": {
        "id": "9B1t4TGUjKi-",
        "colab_type": "code",
        "colab": {}
      },
      "cell_type": "code",
      "source": [
        "def write_sol(l, testroot):\n",
        "    with open(testroot+'sol.txt', 'w') as sol: \n",
        "        for i in range(len(l)):\n",
        "            sol.write(\"%s.jpg %s.jpg\\n\" %(i, l[i]['ppt'].split('/')[-2]))"
      ],
      "execution_count": 0,
      "outputs": []
    },
    {
      "metadata": {
        "id": "0sk4cmT4dRVd",
        "colab_type": "code",
        "outputId": "aca98279-adf5-4470-a4fe-07faca1f5ca4",
        "colab": {
          "base_uri": "https://localhost:8080/",
          "height": 86
        }
      },
      "cell_type": "code",
      "source": [
        "import os\n",
        "testroot = '/'.join(root.split('/')[:-2]) + '/new_test/'\n",
        "print(testroot)\n",
        "try:\n",
        "    os.mkdir(testroot)\n",
        "    os.mkdir(testroot+'frames/')\n",
        "    os.mkdir(testroot+'ppts/')\n",
        "except Exception as e:\n",
        "    print(e)\n",
        "    for i in os.listdir(testroot+'frames/'):\n",
        "        os.remove(testroot+'frames/'+i)\n",
        "    for i in os.listdir(testroot+'ppts/'):\n",
        "        os.remove(testroot+'ppts/'+i)\n",
        "        \n",
        "for i in range(len(testset)):\n",
        "    frame = testset[i]['frame']\n",
        "    ppt = testset[i]['ppt']\n",
        "    ppt_name = ppt.split('/')[-2]\n",
        "    \n",
        "    cp(ppt, testroot+'ppts/'+ppt_name+'.jpg')\n",
        "    cp(frame, testroot+'frames/'+str(i)+'.jpg')\n",
        "    print(frame)\n",
        "\n",
        "write_sol(testset, testroot)"
      ],
      "execution_count": 37,
      "outputs": [
        {
          "output_type": "stream",
          "text": [
            "/content/gdrive/My Drive/data/Data/new_test/\n",
            "[Errno 17] File exists: '/content/gdrive/My Drive/data/Data/new_test/'\n",
            "/content/gdrive/My Drive/data/Data/Dataset/03_7/3.jpg\n",
            "/content/gdrive/My Drive/data/Data/Dataset/03_7/0.jpg\n"
          ],
          "name": "stdout"
        }
      ]
    },
    {
      "metadata": {
        "id": "L99-iaU9A-zD",
        "colab_type": "text"
      },
      "cell_type": "markdown",
      "source": [
        "### Check OP"
      ]
    },
    {
      "metadata": {
        "id": "5E5UUbMmhSwu",
        "colab_type": "code",
        "colab": {
          "base_uri": "https://localhost:8080/",
          "height": 104
        },
        "outputId": "2afbd475-9135-4eb5-9bd7-96b086dfd726"
      },
      "cell_type": "code",
      "source": [
        "solfilename = testroot+'sol.txt'\n",
        "\n",
        "sol = open(solfilename, 'r')\n",
        "acans = {}\n",
        "while True:\n",
        "    line = sol.readline()\n",
        "    print(line)\n",
        "    \n",
        "    if line == '':\n",
        "        break\n",
        "    line = line.split(' ')\n",
        "    \n",
        "    acans[line[0]] = line[1]    \n"
      ],
      "execution_count": 43,
      "outputs": [
        {
          "output_type": "stream",
          "text": [
            "0.jpg 03_7.jpg\n",
            "\n",
            "1.jpg 03_7.jpg\n",
            "\n",
            "\n"
          ],
          "name": "stdout"
        }
      ]
    },
    {
      "metadata": {
        "id": "q3NWK1hJBSyH",
        "colab_type": "code",
        "colab": {
          "base_uri": "https://localhost:8080/",
          "height": 52
        },
        "outputId": "91798d18-491d-4a84-abf6-1946a3447110"
      },
      "cell_type": "code",
      "source": [
        "opfilename = input()\n",
        "opfilename = testroot+opfilename\n",
        "op = open(opfilename, 'r')\n",
        "ac = 0\n",
        "tot = 0\n",
        "while True:\n",
        "    line = op.readline()\n",
        "    \n",
        "    if line == '':\n",
        "        break\n",
        "    \n",
        "    line = line.split(' ')\n",
        "    \n",
        "    if len(line) !=2 :\n",
        "        print('wrong format')\n",
        "        break\n",
        "    \n",
        "    if acans[line[0]] == line[1]:\n",
        "        ac+=1\n",
        "    \n",
        "    tot+=1\n",
        "\n",
        "print(ac/tot*100)"
      ],
      "execution_count": 44,
      "outputs": [
        {
          "output_type": "stream",
          "text": [
            "sol.txt\n",
            "100.0\n"
          ],
          "name": "stdout"
        }
      ]
    },
    {
      "metadata": {
        "id": "gl0-TYNRD_go",
        "colab_type": "code",
        "colab": {}
      },
      "cell_type": "code",
      "source": [
        ""
      ],
      "execution_count": 0,
      "outputs": []
    }
  ]
}