{
  "nbformat": 4,
  "nbformat_minor": 0,
  "metadata": {
    "colab": {
      "name": "tester.ipynb",
      "version": "0.3.2",
      "provenance": [],
      "collapsed_sections": [],
      "toc_visible": true,
      "include_colab_link": true
    },
    "kernelspec": {
      "name": "python3",
      "display_name": "Python 3"
    }
  },
  "cells": [
    {
      "cell_type": "markdown",
      "metadata": {
        "id": "view-in-github",
        "colab_type": "text"
      },
      "source": [
        "<a href=\"https://colab.research.google.com/github/alti-tude/video-slide-matching/blob/master/tester.ipynb\" target=\"_parent\"><img src=\"https://colab.research.google.com/assets/colab-badge.svg\" alt=\"Open In Colab\"/></a>"
      ]
    },
    {
      "metadata": {
        "id": "vDoeI2yqk_C2",
        "colab_type": "text"
      },
      "cell_type": "markdown",
      "source": [
        "\n",
        "# Run This Once to Initialize the Drive"
      ]
    },
    {
      "metadata": {
        "id": "QjrFQR5SFzNJ",
        "colab_type": "text"
      },
      "cell_type": "markdown",
      "source": [
        "#### Right click and select save to My Drive"
      ]
    },
    {
      "metadata": {
        "id": "VWpfcSm0F-kT",
        "colab_type": "text"
      },
      "cell_type": "markdown",
      "source": [
        "https://drive.google.com/open?id=1J84AcNchprI0DndeaTVFSUZWF2lMo5uu"
      ]
    },
    {
      "metadata": {
        "id": "LHV5dXEyXyVI",
        "colab_type": "code",
        "outputId": "abddf939-5cad-40d3-e481-cbab5258049d",
        "colab": {
          "base_uri": "https://localhost:8080/",
          "height": 34
        }
      },
      "cell_type": "code",
      "source": [
        "from google.colab import drive\n",
        "\n",
        "drive.mount('/content/gdrive', force_remount=True)"
      ],
      "execution_count": 16,
      "outputs": [
        {
          "output_type": "stream",
          "text": [
            "Mounted at /content/gdrive\n"
          ],
          "name": "stdout"
        }
      ]
    },
    {
      "metadata": {
        "id": "hpTPOA67g6fg",
        "colab_type": "code",
        "colab": {}
      },
      "cell_type": "code",
      "source": [
        "!mkdir '/content/gdrive/My Drive/data'\n",
        "!cp -r '/content/gdrive/My Drive/Data' '/content/gdrive/My Drive/data'"
      ],
      "execution_count": 0,
      "outputs": []
    },
    {
      "metadata": {
        "id": "XSDRTqOF_gZ6",
        "colab_type": "text"
      },
      "cell_type": "markdown",
      "source": [
        "# Test Generator"
      ]
    },
    {
      "metadata": {
        "id": "PX94O1chZNLD",
        "colab_type": "code",
        "outputId": "100bf51b-bfb5-44b0-9393-9570acb18c17",
        "colab": {
          "base_uri": "https://localhost:8080/",
          "height": 34
        }
      },
      "cell_type": "code",
      "source": [
        "import os\n",
        "root = '/content/gdrive/My Drive/data/Data/Dataset/'\n",
        "testroot = '/'.join(root.split('/')[:-2]) + '/new_test/'\n",
        "\n",
        "data = []\n",
        "data_ind = []\n",
        "for curdir in os.listdir(root):\n",
        "    frames = []\n",
        "    \n",
        "    for imgs in os.listdir(root+curdir):\n",
        "        if 'ppt' not in imgs:\n",
        "            frames.append(root+curdir+'/'+imgs)\n",
        "            data_ind.append({'ppt': root+curdir+'/ppt.jpg', 'frame':root+curdir+'/'+imgs})\n",
        "            \n",
        "    data.append({'ppt': root+curdir+'/ppt.jpg', 'frames':frames})\n",
        "    \n",
        "print(data_ind[1])"
      ],
      "execution_count": 18,
      "outputs": [
        {
          "output_type": "stream",
          "text": [
            "{'ppt': '/content/gdrive/My Drive/data/Data/Dataset/03_7/ppt.jpg', 'frame': '/content/gdrive/My Drive/data/Data/Dataset/03_7/0.jpg'}\n"
          ],
          "name": "stdout"
        }
      ]
    },
    {
      "metadata": {
        "id": "2GUyQD7Heeod",
        "colab_type": "code",
        "colab": {}
      },
      "cell_type": "code",
      "source": [
        "def cp(source, dest):\n",
        "    ip = open(source, 'rb')\n",
        "    data = b''\n",
        "    while True:\n",
        "        chunk = ip.read()\n",
        "        if len(chunk) == 0:\n",
        "            break\n",
        "        data = data + chunk\n",
        "    \n",
        "    ip.close()\n",
        "    \n",
        "    op = open(dest, 'wb')\n",
        "    op.write(data)"
      ],
      "execution_count": 0,
      "outputs": []
    },
    {
      "metadata": {
        "id": "9B1t4TGUjKi-",
        "colab_type": "code",
        "colab": {}
      },
      "cell_type": "code",
      "source": [
        "def write_sol(l, testroot):\n",
        "    with open(testroot+'sol.txt', 'w') as sol: \n",
        "        for i in range(len(l)):\n",
        "            sol.write(\"%s.jpg %s.jpg\\n\" %(i, l[i]['ppt'].split('/')[-2]))"
      ],
      "execution_count": 0,
      "outputs": []
    },
    {
      "metadata": {
        "id": "TdsV5rZ9OgPv",
        "colab_type": "code",
        "colab": {}
      },
      "cell_type": "code",
      "source": [
        "from IPython.display import HTML, display\n",
        "\n",
        "def progress(value, max=100):\n",
        "    return HTML(\"\"\"\n",
        "        <progress\n",
        "            value='{value}'\n",
        "            max='{max}',\n",
        "            style='width: 100%'\n",
        "        >\n",
        "            {value}\n",
        "        </progress>\n",
        "    \"\"\".format(value=value, max=max))\n",
        "\n"
      ],
      "execution_count": 0,
      "outputs": []
    },
    {
      "metadata": {
        "id": "_EZrBLJk_m9J",
        "colab_type": "text"
      },
      "cell_type": "markdown",
      "source": [
        "###  Rerun this for a new test"
      ]
    },
    {
      "metadata": {
        "id": "DCciq_AWZf1u",
        "colab_type": "code",
        "colab": {}
      },
      "cell_type": "code",
      "source": [
        "import random\n",
        "\n",
        "testset_size = random.randint(5, 150)\n",
        "testset = random.sample(data_ind, testset_size)\n"
      ],
      "execution_count": 0,
      "outputs": []
    },
    {
      "metadata": {
        "id": "0sk4cmT4dRVd",
        "colab_type": "code",
        "outputId": "35601d04-223b-417c-c96a-f06590d29afb",
        "colab": {
          "base_uri": "https://localhost:8080/",
          "height": 69
        }
      },
      "cell_type": "code",
      "source": [
        "import os\n",
        "print(testroot)\n",
        "try:\n",
        "    os.mkdir(testroot)\n",
        "    os.mkdir(testroot+'frames/')\n",
        "    os.mkdir(testroot+'ppts/')\n",
        "except Exception as e:\n",
        "    print(e)\n",
        "    for i in os.listdir(testroot+'frames/'):\n",
        "        os.remove(testroot+'frames/'+i)\n",
        "    for i in os.listdir(testroot+'ppts/'):\n",
        "        os.remove(testroot+'ppts/'+i)\n",
        "        \n",
        "out = display(progress(0, testset_size), display_id=True)\n",
        "\n",
        "for i in range(len(testset)):\n",
        "    frame = testset[i]['frame']\n",
        "    ppt = testset[i]['ppt']\n",
        "    ppt_name = ppt.split('/')[-2]\n",
        "    \n",
        "    cp(ppt, testroot+'ppts/'+ppt_name+'.jpg')\n",
        "    cp(frame, testroot+'frames/'+str(i)+'.jpg')\n",
        "    out.update(progress(i+1, testset_size))\n",
        "#     print(frame)\n",
        "\n",
        "write_sol(testset, testroot)"
      ],
      "execution_count": 0,
      "outputs": [
        {
          "output_type": "stream",
          "text": [
            "/content/gdrive/My Drive/data/Data/new_test/\n",
            "[Errno 17] File exists: '/content/gdrive/My Drive/data/Data/new_test/'\n"
          ],
          "name": "stdout"
        },
        {
          "output_type": "display_data",
          "data": {
            "text/html": [
              "\n",
              "        <progress\n",
              "            value='130'\n",
              "            max='130',\n",
              "            style='width: 100%'\n",
              "        >\n",
              "            130\n",
              "        </progress>\n",
              "    "
            ],
            "text/plain": [
              "<IPython.core.display.HTML object>"
            ]
          },
          "metadata": {
            "tags": []
          }
        }
      ]
    },
    {
      "metadata": {
        "id": "L99-iaU9A-zD",
        "colab_type": "text"
      },
      "cell_type": "markdown",
      "source": [
        "### Check OP"
      ]
    },
    {
      "metadata": {
        "id": "5E5UUbMmhSwu",
        "colab_type": "code",
        "outputId": "4b967825-fc03-416b-b6f0-5e719b8eddac",
        "colab": {
          "base_uri": "https://localhost:8080/",
          "height": 4550
        }
      },
      "cell_type": "code",
      "source": [
        "import os\n",
        "solfilename = testroot+'sol.txt'\n",
        "\n",
        "sol = open(solfilename, 'r')\n",
        "acans = {}\n",
        "while True:\n",
        "    line = sol.readline()\n",
        "    print(line)\n",
        "    \n",
        "    if line == '':\n",
        "        break\n",
        "    line = line.split(' ')\n",
        "    \n",
        "    acans[line[0]] = line[1]    \n"
      ],
      "execution_count": 19,
      "outputs": [
        {
          "output_type": "stream",
          "text": [
            "0.jpg 08_1.jpg\n",
            "\n",
            "1.jpg 09_3.jpg\n",
            "\n",
            "2.jpg 02_17.jpg\n",
            "\n",
            "3.jpg 09_29.jpg\n",
            "\n",
            "4.jpg 03_20.jpg\n",
            "\n",
            "5.jpg 14_13.jpg\n",
            "\n",
            "6.jpg 08_7.jpg\n",
            "\n",
            "7.jpg 08_9.jpg\n",
            "\n",
            "8.jpg 02_16.jpg\n",
            "\n",
            "9.jpg 02_14.jpg\n",
            "\n",
            "10.jpg 08_12.jpg\n",
            "\n",
            "11.jpg 02_43.jpg\n",
            "\n",
            "12.jpg 02_19.jpg\n",
            "\n",
            "13.jpg 02_4.jpg\n",
            "\n",
            "14.jpg 02_38.jpg\n",
            "\n",
            "15.jpg 08_18.jpg\n",
            "\n",
            "16.jpg 08_8.jpg\n",
            "\n",
            "17.jpg 09_11.jpg\n",
            "\n",
            "18.jpg 09_9.jpg\n",
            "\n",
            "19.jpg 02_1.jpg\n",
            "\n",
            "20.jpg 02_26.jpg\n",
            "\n",
            "21.jpg 02_23.jpg\n",
            "\n",
            "22.jpg 02_22.jpg\n",
            "\n",
            "23.jpg 02_24.jpg\n",
            "\n",
            "24.jpg 02_23.jpg\n",
            "\n",
            "25.jpg 09_33.jpg\n",
            "\n",
            "26.jpg 03_25.jpg\n",
            "\n",
            "27.jpg 02_42.jpg\n",
            "\n",
            "28.jpg 03_7.jpg\n",
            "\n",
            "29.jpg 14_19.jpg\n",
            "\n",
            "30.jpg 02_38.jpg\n",
            "\n",
            "31.jpg 14_7.jpg\n",
            "\n",
            "32.jpg 12_8.jpg\n",
            "\n",
            "33.jpg 14_13.jpg\n",
            "\n",
            "34.jpg 03_27.jpg\n",
            "\n",
            "35.jpg 03_23.jpg\n",
            "\n",
            "36.jpg 02_2.jpg\n",
            "\n",
            "37.jpg 09_2.jpg\n",
            "\n",
            "38.jpg 03_31.jpg\n",
            "\n",
            "39.jpg 02_11.jpg\n",
            "\n",
            "40.jpg 03_21.jpg\n",
            "\n",
            "41.jpg 03_6.jpg\n",
            "\n",
            "42.jpg 02_9.jpg\n",
            "\n",
            "43.jpg 02_44.jpg\n",
            "\n",
            "44.jpg 03_22.jpg\n",
            "\n",
            "45.jpg 14_23.jpg\n",
            "\n",
            "46.jpg 02_45.jpg\n",
            "\n",
            "47.jpg 09_15.jpg\n",
            "\n",
            "48.jpg 03_9.jpg\n",
            "\n",
            "49.jpg 08_15.jpg\n",
            "\n",
            "50.jpg 03_4.jpg\n",
            "\n",
            "51.jpg 09_24.jpg\n",
            "\n",
            "52.jpg 09_31.jpg\n",
            "\n",
            "53.jpg 14_15.jpg\n",
            "\n",
            "54.jpg 12_13.jpg\n",
            "\n",
            "55.jpg 09_32.jpg\n",
            "\n",
            "56.jpg 09_1.jpg\n",
            "\n",
            "57.jpg 03_4.jpg\n",
            "\n",
            "58.jpg 02_24.jpg\n",
            "\n",
            "59.jpg 02_24.jpg\n",
            "\n",
            "60.jpg 09_13.jpg\n",
            "\n",
            "61.jpg 08_17.jpg\n",
            "\n",
            "62.jpg 14_14.jpg\n",
            "\n",
            "63.jpg 02_41.jpg\n",
            "\n",
            "64.jpg 02_21.jpg\n",
            "\n",
            "65.jpg 02_22.jpg\n",
            "\n",
            "66.jpg 02_17.jpg\n",
            "\n",
            "67.jpg 08_5.jpg\n",
            "\n",
            "68.jpg 14_4.jpg\n",
            "\n",
            "69.jpg 03_10.jpg\n",
            "\n",
            "70.jpg 09_13.jpg\n",
            "\n",
            "71.jpg 02_46.jpg\n",
            "\n",
            "72.jpg 14_13.jpg\n",
            "\n",
            "73.jpg 02_46.jpg\n",
            "\n",
            "74.jpg 02_20.jpg\n",
            "\n",
            "75.jpg 03_19.jpg\n",
            "\n",
            "76.jpg 02_26.jpg\n",
            "\n",
            "77.jpg 14_6.jpg\n",
            "\n",
            "78.jpg 14_19.jpg\n",
            "\n",
            "79.jpg 03_17.jpg\n",
            "\n",
            "80.jpg 03_9.jpg\n",
            "\n",
            "81.jpg 14_7.jpg\n",
            "\n",
            "82.jpg 02_24.jpg\n",
            "\n",
            "83.jpg 09_7.jpg\n",
            "\n",
            "84.jpg 08_7.jpg\n",
            "\n",
            "85.jpg 08_17.jpg\n",
            "\n",
            "86.jpg 08_20.jpg\n",
            "\n",
            "87.jpg 02_39.jpg\n",
            "\n",
            "88.jpg 03_3.jpg\n",
            "\n",
            "89.jpg 09_24.jpg\n",
            "\n",
            "90.jpg 09_28.jpg\n",
            "\n",
            "91.jpg 02_25.jpg\n",
            "\n",
            "92.jpg 03_26.jpg\n",
            "\n",
            "93.jpg 02_21.jpg\n",
            "\n",
            "94.jpg 12_6.jpg\n",
            "\n",
            "95.jpg 09_19.jpg\n",
            "\n",
            "96.jpg 02_41.jpg\n",
            "\n",
            "97.jpg 14_6.jpg\n",
            "\n",
            "98.jpg 03_30.jpg\n",
            "\n",
            "99.jpg 09_13.jpg\n",
            "\n",
            "100.jpg 09_21.jpg\n",
            "\n",
            "101.jpg 03_8.jpg\n",
            "\n",
            "102.jpg 03_2.jpg\n",
            "\n",
            "103.jpg 14_27.jpg\n",
            "\n",
            "104.jpg 02_25.jpg\n",
            "\n",
            "105.jpg 09_9.jpg\n",
            "\n",
            "106.jpg 12_9.jpg\n",
            "\n",
            "107.jpg 03_31.jpg\n",
            "\n",
            "108.jpg 09_8.jpg\n",
            "\n",
            "109.jpg 09_30.jpg\n",
            "\n",
            "110.jpg 03_29.jpg\n",
            "\n",
            "111.jpg 02_0.jpg\n",
            "\n",
            "112.jpg 12_16.jpg\n",
            "\n",
            "113.jpg 09_35.jpg\n",
            "\n",
            "114.jpg 02_41.jpg\n",
            "\n",
            "115.jpg 12_6.jpg\n",
            "\n",
            "116.jpg 09_26.jpg\n",
            "\n",
            "117.jpg 09_5.jpg\n",
            "\n",
            "118.jpg 02_40.jpg\n",
            "\n",
            "119.jpg 02_0.jpg\n",
            "\n",
            "120.jpg 03_1.jpg\n",
            "\n",
            "121.jpg 02_12.jpg\n",
            "\n",
            "122.jpg 14_7.jpg\n",
            "\n",
            "123.jpg 14_17.jpg\n",
            "\n",
            "124.jpg 14_7.jpg\n",
            "\n",
            "125.jpg 02_46.jpg\n",
            "\n",
            "126.jpg 03_5.jpg\n",
            "\n",
            "127.jpg 02_43.jpg\n",
            "\n",
            "128.jpg 12_15.jpg\n",
            "\n",
            "129.jpg 08_4.jpg\n",
            "\n",
            "\n"
          ],
          "name": "stdout"
        }
      ]
    },
    {
      "metadata": {
        "id": "q3NWK1hJBSyH",
        "colab_type": "code",
        "outputId": "46f8be7c-9618-4408-d794-9fb2e58f4f79",
        "colab": {
          "base_uri": "https://localhost:8080/",
          "height": 416
        }
      },
      "cell_type": "code",
      "source": [
        "opfilename = input()\n",
        "opfilename = testroot+opfilename\n",
        "op = open(opfilename, 'r')\n",
        "ac = 0\n",
        "tot = 0\n",
        "while True:\n",
        "    line = op.readline()\n",
        "    \n",
        "    if line == '':\n",
        "        break\n",
        "    \n",
        "    line = line.split(' ')\n",
        "    \n",
        "    if len(line) !=2 :\n",
        "        print('wrong format')\n",
        "        break\n",
        "    \n",
        "    if acans[line[0]] == line[1]:\n",
        "        ac+=1\n",
        "    else:\n",
        "        print(line, acans[line[0]])\n",
        "    tot+=1\n",
        "\n",
        "print(ac)\n",
        "print(ac/tot*100)"
      ],
      "execution_count": 21,
      "outputs": [
        {
          "output_type": "stream",
          "text": [
            "op3.txt\n",
            "['3.jpg', '02_0.jpg\\n'] 09_29.jpg\n",
            "\n",
            "['10.jpg', '09_8.jpg\\n'] 08_12.jpg\n",
            "\n",
            "['15.jpg', '09_9.jpg\\n'] 08_18.jpg\n",
            "\n",
            "['28.jpg', '03_9.jpg\\n'] 03_7.jpg\n",
            "\n",
            "['52.jpg', '14_13.jpg\\n'] 09_31.jpg\n",
            "\n",
            "['55.jpg', '08_20.jpg\\n'] 09_32.jpg\n",
            "\n",
            "['67.jpg', '09_1.jpg\\n'] 08_5.jpg\n",
            "\n",
            "['110.jpg', '02_0.jpg\\n'] 03_29.jpg\n",
            "\n",
            "['112.jpg', '12_15.jpg\\n'] 12_16.jpg\n",
            "\n",
            "['126.jpg', '02_9.jpg\\n'] 03_5.jpg\n",
            "\n",
            "120\n",
            "92.3076923076923\n"
          ],
          "name": "stdout"
        }
      ]
    },
    {
      "metadata": {
        "id": "gl0-TYNRD_go",
        "colab_type": "code",
        "colab": {}
      },
      "cell_type": "code",
      "source": [
        ""
      ],
      "execution_count": 0,
      "outputs": []
    }
  ]
}