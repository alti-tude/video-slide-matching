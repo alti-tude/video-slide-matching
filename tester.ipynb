{
  "nbformat": 4,
  "nbformat_minor": 0,
  "metadata": {
    "colab": {
      "name": "tester.ipynb",
      "version": "0.3.2",
      "provenance": [],
      "collapsed_sections": [],
      "toc_visible": true,
      "include_colab_link": true
    },
    "kernelspec": {
      "name": "python3",
      "display_name": "Python 3"
    }
  },
  "cells": [
    {
      "cell_type": "markdown",
      "metadata": {
        "id": "view-in-github",
        "colab_type": "text"
      },
      "source": [
        "<a href=\"https://colab.research.google.com/github/alti-tude/video-slide-matching/blob/master/tester.ipynb\" target=\"_parent\"><img src=\"https://colab.research.google.com/assets/colab-badge.svg\" alt=\"Open In Colab\"/></a>"
      ]
    },
    {
      "metadata": {
        "id": "vDoeI2yqk_C2",
        "colab_type": "text"
      },
      "cell_type": "markdown",
      "source": [
        "\n",
        "# Run This Once to Initialize the Drive"
      ]
    },
    {
      "metadata": {
        "id": "QjrFQR5SFzNJ",
        "colab_type": "text"
      },
      "cell_type": "markdown",
      "source": [
        "#### Right click and select save to My Drive"
      ]
    },
    {
      "metadata": {
        "id": "VWpfcSm0F-kT",
        "colab_type": "text"
      },
      "cell_type": "markdown",
      "source": [
        "https://drive.google.com/open?id=1J84AcNchprI0DndeaTVFSUZWF2lMo5uu"
      ]
    },
    {
      "metadata": {
        "id": "LHV5dXEyXyVI",
        "colab_type": "code",
        "outputId": "31bd7539-d804-4362-f4be-c42363a62a12",
        "colab": {
          "base_uri": "https://localhost:8080/",
          "height": 124
        }
      },
      "cell_type": "code",
      "source": [
        "from google.colab import drive\n",
        "\n",
        "drive.mount('/content/gdrive', force_remount=True)"
      ],
      "execution_count": 4,
      "outputs": [
        {
          "output_type": "stream",
          "text": [
            "Go to this URL in a browser: https://accounts.google.com/o/oauth2/auth?client_id=947318989803-6bn6qk8qdgf4n4g3pfee6491hc0brc4i.apps.googleusercontent.com&redirect_uri=urn%3Aietf%3Awg%3Aoauth%3A2.0%3Aoob&scope=email%20https%3A%2F%2Fwww.googleapis.com%2Fauth%2Fdocs.test%20https%3A%2F%2Fwww.googleapis.com%2Fauth%2Fdrive%20https%3A%2F%2Fwww.googleapis.com%2Fauth%2Fdrive.photos.readonly%20https%3A%2F%2Fwww.googleapis.com%2Fauth%2Fpeopleapi.readonly&response_type=code\n",
            "\n",
            "Enter your authorization code:\n",
            "··········\n",
            "Mounted at /content/gdrive\n"
          ],
          "name": "stdout"
        }
      ]
    },
    {
      "metadata": {
        "id": "hpTPOA67g6fg",
        "colab_type": "code",
        "colab": {}
      },
      "cell_type": "code",
      "source": [
        "!mkdir '/content/gdrive/My Drive/data'\n",
        "!cp -r '/content/gdrive/My Drive/Data' '/content/gdrive/My Drive/data'"
      ],
      "execution_count": 0,
      "outputs": []
    },
    {
      "metadata": {
        "id": "XSDRTqOF_gZ6",
        "colab_type": "text"
      },
      "cell_type": "markdown",
      "source": [
        "# Test Generator"
      ]
    },
    {
      "metadata": {
        "id": "PX94O1chZNLD",
        "colab_type": "code",
        "outputId": "179c6eb7-d1ae-441a-8cdd-792d08f84448",
        "colab": {
          "base_uri": "https://localhost:8080/",
          "height": 34
        }
      },
      "cell_type": "code",
      "source": [
        "import os\n",
        "root = '/content/gdrive/My Drive/data/Data/Dataset/'\n",
        "testroot = '/'.join(root.split('/')[:-2]) + '/new_test/'\n",
        "\n",
        "data = []\n",
        "data_ind = []\n",
        "c = 0\n",
        "\n",
        "def load_tests(data, data_ind):\n",
        "    for curdir in os.listdir(root):\n",
        "        frames = []\n",
        "\n",
        "        for imgs in os.listdir(root+curdir):\n",
        "            if 'ppt' not in imgs:\n",
        "                frames.append(root+curdir+'/'+imgs)\n",
        "                data_ind.append({'ppt': root+curdir+'/ppt.jpg', 'frame':root+curdir+'/'+imgs})\n",
        "\n",
        "        data.append({'ppt': root+curdir+'/ppt.jpg', 'frames':frames})\n",
        "    \n",
        "\n",
        "load_tests(data, data_ind)\n",
        "print(data_ind[1])\n"
      ],
      "execution_count": 102,
      "outputs": [
        {
          "output_type": "stream",
          "text": [
            "{'ppt': '/content/gdrive/My Drive/data/Data/Dataset/03_7/ppt.jpg', 'frame': '/content/gdrive/My Drive/data/Data/Dataset/03_7/0.jpg'}\n"
          ],
          "name": "stdout"
        }
      ]
    },
    {
      "metadata": {
        "id": "2GUyQD7Heeod",
        "colab_type": "code",
        "colab": {}
      },
      "cell_type": "code",
      "source": [
        "def cp(source, dest):\n",
        "    ip = open(source, 'rb')\n",
        "    data = b''\n",
        "    while True:\n",
        "        chunk = ip.read()\n",
        "        if len(chunk) == 0:\n",
        "            break\n",
        "        data = data + chunk\n",
        "    \n",
        "    ip.close()\n",
        "    \n",
        "    op = open(dest, 'wb')\n",
        "    op.write(data)"
      ],
      "execution_count": 0,
      "outputs": []
    },
    {
      "metadata": {
        "id": "9B1t4TGUjKi-",
        "colab_type": "code",
        "colab": {}
      },
      "cell_type": "code",
      "source": [
        "def write_sol(l, testroot):\n",
        "    with open(testroot+'sol.txt', 'w') as sol: \n",
        "        for i in range(len(l)):\n",
        "            sol.write(\"%s.jpg %s.jpg\\n\" %(i, l[i]['ppt'].split('/')[-2]))"
      ],
      "execution_count": 0,
      "outputs": []
    },
    {
      "metadata": {
        "id": "TdsV5rZ9OgPv",
        "colab_type": "code",
        "colab": {}
      },
      "cell_type": "code",
      "source": [
        "from IPython.display import HTML, display\n",
        "\n",
        "def progress(value, max=100):\n",
        "    return HTML(\"\"\"\n",
        "        <progress\n",
        "            value='{value}'\n",
        "            max='{max}',\n",
        "            style='width: 100%'\n",
        "        >\n",
        "            {value}\n",
        "        </progress>\n",
        "    \"\"\".format(value=value, max=max))\n",
        "\n"
      ],
      "execution_count": 0,
      "outputs": []
    },
    {
      "metadata": {
        "id": "_EZrBLJk_m9J",
        "colab_type": "text"
      },
      "cell_type": "markdown",
      "source": [
        "###  Rerun this for a new test"
      ]
    },
    {
      "metadata": {
        "id": "DCciq_AWZf1u",
        "colab_type": "code",
        "colab": {},
        "cellView": "both"
      },
      "cell_type": "code",
      "source": [
        "max_test_size = 30 \n",
        "import random\n",
        "\n",
        "def get_set(data_ind):\n",
        "    global max_test_size\n",
        "    testset_size = random.randint(10, max_test_size)\n",
        "    testset_size = min(testset_size, len(data_ind)) \n",
        "    testset = random.sample(data_ind, testset_size)\n",
        "    return testset,testset_size\n"
      ],
      "execution_count": 0,
      "outputs": []
    },
    {
      "metadata": {
        "id": "0sk4cmT4dRVd",
        "colab_type": "code",
        "colab": {}
      },
      "cell_type": "code",
      "source": [
        "import os\n",
        "\n",
        "def gen_test(testroot, testset_size, testset):\n",
        "    print(\"test size: \"+str(testset_size))\n",
        "    print(testroot)\n",
        "    try:\n",
        "        os.mkdir(testroot)\n",
        "        os.mkdir(testroot+'frames/')\n",
        "        os.mkdir(testroot+'ppts/')\n",
        "    except Exception as e:\n",
        "        print(e)\n",
        "        for i in os.listdir(testroot+'frames/'):\n",
        "            os.remove(testroot+'frames/'+i)\n",
        "        for i in os.listdir(testroot+'ppts/'):\n",
        "            os.remove(testroot+'ppts/'+i)\n",
        "\n",
        "    out = display(progress(0, testset_size), display_id=True)\n",
        "\n",
        "    for i in range(len(testset)):\n",
        "        frame = testset[i]['frame']\n",
        "        ppt = testset[i]['ppt']\n",
        "        ppt_name = ppt.split('/')[-2]\n",
        "\n",
        "        cp(ppt, testroot+'ppts/'+ppt_name+'.jpg')\n",
        "        cp(frame, testroot+'frames/'+str(i)+'.jpg')\n",
        "        out.update(progress(i+1, testset_size))\n",
        "#         print(frame)\n",
        "\n",
        "    write_sol(testset, testroot)\n",
        "\n"
      ],
      "execution_count": 0,
      "outputs": []
    },
    {
      "metadata": {
        "id": "L99-iaU9A-zD",
        "colab_type": "text"
      },
      "cell_type": "markdown",
      "source": [
        "### Check OP"
      ]
    },
    {
      "metadata": {
        "id": "5E5UUbMmhSwu",
        "colab_type": "code",
        "colab": {}
      },
      "cell_type": "code",
      "source": [
        "import os\n",
        "\n",
        "def load_sol(testroot):\n",
        "    solfilename = testroot+'sol.txt'\n",
        "\n",
        "    sol = open(solfilename, 'r')\n",
        "    acans = {}\n",
        "    tot = 0\n",
        "    while True:\n",
        "        line = sol.readline()\n",
        "\n",
        "        if line == '':\n",
        "            break\n",
        "        line = line.split(' ')\n",
        "        \n",
        "        tot += 1\n",
        "        acans[line[0]] = line[1]  \n",
        "    \n",
        "    print(\"loaded: \"+str(tot))\n",
        "    return acans\n"
      ],
      "execution_count": 0,
      "outputs": []
    },
    {
      "metadata": {
        "id": "q3NWK1hJBSyH",
        "colab_type": "code",
        "colab": {}
      },
      "cell_type": "code",
      "source": [
        "def compare_sol(testroot, acans):\n",
        "#     opfilename = input()\n",
        "    opfilename = 'op.txt'\n",
        "    opfilename = testroot+opfilename\n",
        "    op = open(opfilename, 'r')\n",
        "    ac = 0\n",
        "    tot = 0\n",
        "    errors = []\n",
        "    while True:\n",
        "        line = op.readline()\n",
        "\n",
        "        if line == '':\n",
        "            break\n",
        "\n",
        "        line = line.split(' ')\n",
        "\n",
        "        if len(line) !=2 :\n",
        "            print('wrong format')\n",
        "            break\n",
        "\n",
        "        if acans[line[0]] == line[1]:\n",
        "            ac+=1\n",
        "        else:\n",
        "            a = [line[0], line[1][:-1], acans[line[0]][:-1]]\n",
        "            errors.append(a)\n",
        "            print(a)\n",
        "        tot+=1\n",
        "\n",
        "    print(ac)\n",
        "    print(ac/tot*100)\n",
        "    return errors, ac, tot"
      ],
      "execution_count": 0,
      "outputs": []
    },
    {
      "metadata": {
        "id": "gl0-TYNRD_go",
        "colab_type": "code",
        "colab": {
          "base_uri": "https://localhost:8080/",
          "height": 239
        },
        "cellView": "both",
        "outputId": "6d67d56b-2fd9-4d3c-d6dd-5561e9f95e37"
      },
      "cell_type": "code",
      "source": [
        "import json\n",
        "import os\n",
        "\n",
        "dump_route = root+'../test_dump.txt'\n",
        "\n",
        "max_test_size = 835 #@param {type:\"slider\", min:10, max:835, step:1}\n",
        "iterations = 10 #@param {type:\"integer\"}\n",
        "reset_flag = False #@param {type:\"boolean\"}\n",
        "\n",
        "for i in range(iterations):\n",
        "    if reset_flag:\n",
        "        !rm -rf '{root}../errors'\n",
        "        !rm -rf '{dump_route}'\n",
        "        c = 0\n",
        "        reset_flag = False\n",
        "        \n",
        "    if break_flag:\n",
        "        break\n",
        "        \n",
        "    testset, testset_size = get_set(data_ind)\n",
        "    gen_test(testroot, testset_size, testset)\n",
        "    \n",
        "    !python3 '{root}/../../../dsaa-project/main.py'\n",
        "    \n",
        "    acans = load_sol(testroot)\n",
        "    errors, ac, tot = compare_sol(testroot, acans)\n",
        "    \n",
        "    if ac!=tot:\n",
        "        c+=1\n",
        "        with open(dump_route, 'a') as dump:\n",
        "            dumpstr = json.dumps({\"errors\": errors, \"ac\":ac, \"tot\":tot})\n",
        "            for j in range(len(errors)):\n",
        "                print(errors[j])\n",
        "                !mkdir -p '{root}../errors/test_{c}/err_{j}'\n",
        "                !cp '{testroot}frames/{errors[j][0]}' '{root}../errors/test_{c}/err_{j}/frame.jpg'\n",
        "                !cp '{testroot}ppts/{errors[j][1]}' '{root}../errors/test_{c}/err_{j}/incorrect_match.jpg'\n",
        "                !cp '{testroot}ppts/{errors[j][2]}' '{root}../errors/test_{c}/err_{j}/correct_match.jpg'\n",
        "            dump.write(dumpstr + '\\n')\n",
        "    \n",
        "        \n",
        "    "
      ],
      "execution_count": 0,
      "outputs": [
        {
          "output_type": "stream",
          "text": [
            "test size: 721\n",
            "/content/gdrive/My Drive/data/Data/new_test/\n",
            "[Errno 17] File exists: '/content/gdrive/My Drive/data/Data/new_test/'\n"
          ],
          "name": "stdout"
        },
        {
          "output_type": "display_data",
          "data": {
            "text/html": [
              "\n",
              "        <progress\n",
              "            value='721'\n",
              "            max='721',\n",
              "            style='width: 100%'\n",
              "        >\n",
              "            721\n",
              "        </progress>\n",
              "    "
            ],
            "text/plain": [
              "<IPython.core.display.HTML object>"
            ]
          },
          "metadata": {
            "tags": []
          }
        },
        {
          "output_type": "stream",
          "text": [
            "Drive already mounted at /content/gdrive; to attempt to forcibly remount, call drive.mount(\"/content/gdrive\", force_remount=True).\n",
            "1/721\n",
            "2/721\n",
            "3/721\n",
            "4/721\n",
            "5/721\n",
            "6/721\n"
          ],
          "name": "stdout"
        }
      ]
    },
    {
      "metadata": {
        "id": "lZ3XHhtpUunv",
        "colab_type": "code",
        "colab": {
          "base_uri": "https://localhost:8080/",
          "height": 278
        },
        "outputId": "6824c400-9632-4898-8f3a-d07e330d63dd"
      },
      "cell_type": "code",
      "source": [
        "s!python3 '{root}/../../../dsaa-project/main.py'"
      ],
      "execution_count": 55,
      "outputs": [
        {
          "output_type": "stream",
          "text": [
            "Drive already mounted at /content/gdrive; to attempt to forcibly remount, call drive.mount(\"/content/gdrive\", force_remount=True).\n",
            "caching frame\n",
            "caching ppt\n",
            "caching ppt\n",
            "caching ppt\n",
            "caching ppt\n",
            "caching ppt\n",
            "caching ppt\n",
            "caching ppt\n",
            "caching frame\n",
            "caching frame\n",
            "caching frame\n",
            "caching frame\n",
            "caching frame\n",
            "caching frame\n"
          ],
          "name": "stdout"
        }
      ]
    },
    {
      "metadata": {
        "id": "qmLRG9P8bFhW",
        "colab_type": "code",
        "colab": {
          "base_uri": "https://localhost:8080/",
          "height": 86
        },
        "outputId": "03965bcc-6792-4fc3-f11d-18a38cd047cb"
      },
      "cell_type": "code",
      "source": [
        "acans = load_sol(testroot)\n",
        "compare_sol(testroot, acans)"
      ],
      "execution_count": 39,
      "outputs": [
        {
          "output_type": "stream",
          "text": [
            "loaded: 19\n",
            "op3.txt\n",
            "19\n",
            "100.0\n"
          ],
          "name": "stdout"
        }
      ]
    },
    {
      "metadata": {
        "id": "oq1TjX3obSZ1",
        "colab_type": "code",
        "colab": {
          "base_uri": "https://localhost:8080/",
          "height": 86
        },
        "outputId": "12d75aea-59df-4efa-97ac-0155ca165882"
      },
      "cell_type": "code",
      "source": [
        "testset, testset_size = get_set(data_ind)\n",
        "gen_test(testroot, testset_size, testset)"
      ],
      "execution_count": 54,
      "outputs": [
        {
          "output_type": "stream",
          "text": [
            "test size: 7\n",
            "/content/gdrive/My Drive/data/Data/new_test/\n",
            "[Errno 17] File exists: '/content/gdrive/My Drive/data/Data/new_test/'\n"
          ],
          "name": "stdout"
        },
        {
          "output_type": "display_data",
          "data": {
            "text/html": [
              "\n",
              "        <progress\n",
              "            value='7'\n",
              "            max='7',\n",
              "            style='width: 100%'\n",
              "        >\n",
              "            7\n",
              "        </progress>\n",
              "    "
            ],
            "text/plain": [
              "<IPython.core.display.HTML object>"
            ]
          },
          "metadata": {
            "tags": []
          }
        }
      ]
    },
    {
      "metadata": {
        "id": "-wJpoHk1cCNy",
        "colab_type": "code",
        "colab": {}
      },
      "cell_type": "code",
      "source": [
        "c = 5"
      ],
      "execution_count": 0,
      "outputs": []
    },
    {
      "metadata": {
        "id": "qivhXJmph38p",
        "colab_type": "code",
        "colab": {}
      },
      "cell_type": "code",
      "source": [
        ""
      ],
      "execution_count": 0,
      "outputs": []
    }
  ]
}