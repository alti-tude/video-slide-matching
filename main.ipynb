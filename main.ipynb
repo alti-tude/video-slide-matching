{
  "nbformat": 4,
  "nbformat_minor": 0,
  "metadata": {
    "colab": {
      "name": "main.ipynb",
      "version": "0.3.2",
      "provenance": [],
      "include_colab_link": true
    },
    "kernelspec": {
      "name": "python3",
      "display_name": "Python 3"
    },
    "accelerator": "GPU"
  },
  "cells": [
    {
      "cell_type": "markdown",
      "metadata": {
        "id": "view-in-github",
        "colab_type": "text"
      },
      "source": [
        "<a href=\"https://colab.research.google.com/github/alti-tude/video-slide-matching/blob/master/main.ipynb\" target=\"_parent\"><img src=\"https://colab.research.google.com/assets/colab-badge.svg\" alt=\"Open In Colab\"/></a>"
      ]
    },
    {
      "metadata": {
        "id": "3K7-eaGrYcqQ",
        "colab_type": "code",
        "outputId": "4988d56a-d490-42c5-feb0-b47551ac1d23",
        "colab": {
          "base_uri": "https://localhost:8080/",
          "height": 69
        }
      },
      "cell_type": "code",
      "source": [
        "!pip install scikit-image"
      ],
      "execution_count": 0,
      "outputs": [
        {
          "output_type": "stream",
          "text": [
            "Collecting skimage\n",
            "  Using cached https://files.pythonhosted.org/packages/3b/ee/edbfa69ba7b7d9726e634bfbeefd04b5a1764e9e74867ec916113eeaf4a1/skimage-0.0.tar.gz\n",
            "\u001b[31mCommand \"python setup.py egg_info\" failed with error code 1 in /tmp/pip-install-ny2fe2z2/skimage/\u001b[0m\n"
          ],
          "name": "stdout"
        }
      ]
    },
    {
      "metadata": {
        "id": "_RcPdsIg_Elh",
        "colab_type": "code",
        "outputId": "12deb327-9d0d-4581-c478-4dc2b7012e71",
        "colab": {
          "base_uri": "https://localhost:8080/",
          "height": 131
        }
      },
      "cell_type": "code",
      "source": [
        "from google.colab import drive\n",
        "\n",
        "drive.mount('/content/gdrive', force_remount=True)"
      ],
      "execution_count": 1,
      "outputs": [
        {
          "output_type": "stream",
          "text": [
            "Go to this URL in a browser: https://accounts.google.com/o/oauth2/auth?client_id=947318989803-6bn6qk8qdgf4n4g3pfee6491hc0brc4i.apps.googleusercontent.com&redirect_uri=urn%3Aietf%3Awg%3Aoauth%3A2.0%3Aoob&scope=email%20https%3A%2F%2Fwww.googleapis.com%2Fauth%2Fdocs.test%20https%3A%2F%2Fwww.googleapis.com%2Fauth%2Fdrive%20https%3A%2F%2Fwww.googleapis.com%2Fauth%2Fdrive.photos.readonly%20https%3A%2F%2Fwww.googleapis.com%2Fauth%2Fpeopleapi.readonly&response_type=code\n",
            "\n",
            "Enter your authorization code:\n",
            "··········\n",
            "Mounted at /content/gdrive\n"
          ],
          "name": "stdout"
        }
      ]
    },
    {
      "metadata": {
        "id": "XsuqVvyg_Inm",
        "colab_type": "code",
        "colab": {}
      },
      "cell_type": "code",
      "source": [
        "import os\n",
        "import numpy as np\n",
        "import cv2\n",
        "from matplotlib import pylab as plt\n",
        "from math import floor, ceil\n",
        "\n",
        "root = '/content/gdrive/My Drive/data/Data/new_test/'\n",
        "frame_root = root + 'frames/'\n",
        "ppt_root = root + 'ppts/'\n"
      ],
      "execution_count": 0,
      "outputs": []
    },
    {
      "metadata": {
        "id": "r9GHfvY3PPLG",
        "colab_type": "code",
        "colab": {}
      },
      "cell_type": "code",
      "source": [
        "from IPython.display import HTML, display\n",
        "\n",
        "def progress(value, max=100):\n",
        "    return HTML(\"\"\"\n",
        "        <progress\n",
        "            value='{value}'\n",
        "            max='{max}',\n",
        "            style='width: 100%'\n",
        "        >\n",
        "            {value}\n",
        "        </progress>\n",
        "        <p> {value}/{max}</p>\n",
        "    \"\"\".format(value=value, max=max))\n"
      ],
      "execution_count": 0,
      "outputs": []
    },
    {
      "metadata": {
        "id": "t1T5eRcXBsBK",
        "colab_type": "code",
        "colab": {}
      },
      "cell_type": "code",
      "source": [
        "from skimage.measure import compare_ssim as ssim\n",
        "cache = {}\n",
        "\n",
        "def compare(frame, ppt):\n",
        "    global cache\n",
        "    print(frame, ppt)\n",
        "    if frame in cache:\n",
        "        frame = cache[frame].copy()\n",
        "    else:\n",
        "        cache[frame] = cv2.imread(frame, 0)\n",
        "        frame = cache[frame].copy()\n",
        "        \n",
        "    if ppt in cache:\n",
        "        ppt = cache[ppt].copy()\n",
        "    else:\n",
        "        cache[ppt] = cv2.imread(ppt,0)\n",
        "        ppt = cache[ppt].copy()\n",
        "        \n",
        "#     plt.subplot(121), plt.imshow(frame, cmap='gray')\n",
        "#     plt.subplot(122), plt.imshow(ppt, cmap='gray')\n",
        "#     plt.show()\n",
        "\n",
        "    n = min(ppt.shape[0], frame.shape[0])\n",
        "    m = min(ppt.shape[1], frame.shape[1])\n",
        "    \n",
        "    frame = frame[int((frame.shape[0]-n)/2):frame.shape[0] - ceil((frame.shape[0]-n)/2), int((frame.shape[1]-m)/2):frame.shape[1] - ceil((frame.shape[1]-m)/2)]\n",
        "    ppt = ppt[int((ppt.shape[0]-n)/2):ppt.shape[0] - ceil((ppt.shape[0]-n)/2), int((ppt.shape[1]-m)/2):ppt.shape[1] - ceil((ppt.shape[1]-m)/2)]\n",
        "    \n",
        "    frame = frame.astype(float)\n",
        "    ppt = ppt.astype(float)\n",
        "    \n",
        "    \n",
        "    mean_f = np.mean(frame)\n",
        "    mean_p = np.mean(ppt)\n",
        "    sd_f = np.std(frame)\n",
        "    sd_p = np.std(ppt)\n",
        "    \n",
        "    ###### for implementing ssim #############\n",
        "#     sd_pf = np.sqrt(np.sum(frame*ppt)/(n*m-1))\n",
        "#     print((4*mean_f*mean_p*sd_pf)/((mean_f**2+mean_p**2)*(sd_f**2+sd_p**2)))\n",
        "#     return (4*mean_f*mean_p*sd_pf)/((mean_f**2+mean_p**2)*(sd_f**2+sd_p**2))\n",
        "\n",
        "    ############# normxcorr ###################\n",
        "    return np.sum((frame-mean_f)*(ppt-mean_p))/(sd_f*sd_p)"
      ],
      "execution_count": 0,
      "outputs": []
    },
    {
      "metadata": {
        "id": "b9HK9vljBLEM",
        "colab_type": "code",
        "outputId": "71ad722a-ae31-44b1-85ed-effdf9d6ff7b",
        "colab": {
          "base_uri": "https://localhost:8080/",
          "height": 64
        }
      },
      "cell_type": "code",
      "source": [
        "ppts = os.listdir(ppt_root)\n",
        "frames = os.listdir(frame_root)\n",
        "op = open(root+'op3.txt', 'w')\n",
        "\n",
        "out = display(progress(0, len(frames)), display_id=True)\n",
        "cache = {}\n",
        "co = 0\n",
        "\n",
        "for frame in frames:\n",
        "    ma = 0\n",
        "    best_match = -1\n",
        "    for ppt in ppts:\n",
        "        corr = compare(frame_root+frame, ppt_root+ppt)\n",
        "        \n",
        "        if corr>ma:\n",
        "            ma = corr\n",
        "            best_match = ppt\n",
        "            \n",
        "    op.write(\"%s %s\\n\"%(frame, best_match))\n",
        "    out.update(progress(co+1, len(frames)))\n",
        "    co+=1\n",
        "    \n",
        "op.close()"
      ],
      "execution_count": 0,
      "outputs": [
        {
          "output_type": "display_data",
          "data": {
            "text/html": [
              "\n",
              "        <progress\n",
              "            value='130'\n",
              "            max='130',\n",
              "            style='width: 100%'\n",
              "        >\n",
              "            130\n",
              "        </progress>\n",
              "        <p> 130/130</p>\n",
              "    "
            ],
            "text/plain": [
              "<IPython.core.display.HTML object>"
            ]
          },
          "metadata": {
            "tags": []
          }
        }
      ]
    },
    {
      "metadata": {
        "id": "55XKaVn5DtFK",
        "colab_type": "code",
        "colab": {}
      },
      "cell_type": "code",
      "source": [
        "!diff /content/gdrive/My\\ Drive/data/Data/new_test/op2.txt /content/gdrive/My\\ Drive/data/Data/new_test/op3.txt"
      ],
      "execution_count": 0,
      "outputs": []
    },
    {
      "metadata": {
        "id": "1eiIzVl3rR8K",
        "colab_type": "code",
        "colab": {}
      },
      "cell_type": "code",
      "source": [
        "compare(root+'../tmp/frame.jpg', root+'../tmp/correct_match.jpg')"
      ],
      "execution_count": 0,
      "outputs": []
    },
    {
      "metadata": {
        "id": "6yMko9oFlekz",
        "colab_type": "code",
        "colab": {}
      },
      "cell_type": "code",
      "source": [
        ""
      ],
      "execution_count": 0,
      "outputs": []
    }
  ]
}